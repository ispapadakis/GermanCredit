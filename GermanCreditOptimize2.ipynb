{
 "cells": [
  {
   "cell_type": "markdown",
   "metadata": {},
   "source": [
    "## German Credit Optimization\n",
    "<p>Real Option Optimization\n",
    "<p>Using Stochastic Programming"
   ]
  },
  {
   "cell_type": "code",
   "execution_count": 403,
   "metadata": {},
   "outputs": [],
   "source": [
    "import pandas as pd\n",
    "import numpy as np\n",
    "from scipy.optimize import minimize\n",
    "%matplotlib inline\n",
    "\n",
    "from scipy.optimize import linprog"
   ]
  },
  {
   "cell_type": "code",
   "execution_count": 404,
   "metadata": {},
   "outputs": [],
   "source": [
    "df = pd.read_csv('~/Documents/My Samples/germancredit_out.csv')\n",
    "n = len(df)"
   ]
  },
  {
   "cell_type": "code",
   "execution_count": 406,
   "metadata": {},
   "outputs": [
    {
     "data": {
      "text/html": [
       "<style  type=\"text/css\" >\n",
       "</style>  \n",
       "<table id=\"T_0f0ee962_8252_11e8_a9f8_d200804ad500\" ><caption>Probability Matrix</caption> \n",
       "<thead>    <tr> \n",
       "        <th class=\"blank level0\" ></th> \n",
       "        <th class=\"col_heading level0 col0\" >Good</th> \n",
       "        <th class=\"col_heading level0 col1\" >Bad</th> \n",
       "    </tr></thead> \n",
       "<tbody>    <tr> \n",
       "        <th id=\"T_0f0ee962_8252_11e8_a9f8_d200804ad500level0_row0\" class=\"row_heading level0 row0\" >A</th> \n",
       "        <td id=\"T_0f0ee962_8252_11e8_a9f8_d200804ad500row0_col0\" class=\"data row0 col0\" >75%</td> \n",
       "        <td id=\"T_0f0ee962_8252_11e8_a9f8_d200804ad500row0_col1\" class=\"data row0 col1\" >25%</td> \n",
       "    </tr>    <tr> \n",
       "        <th id=\"T_0f0ee962_8252_11e8_a9f8_d200804ad500level0_row1\" class=\"row_heading level0 row1\" >B</th> \n",
       "        <td id=\"T_0f0ee962_8252_11e8_a9f8_d200804ad500row1_col0\" class=\"data row1 col0\" >82%</td> \n",
       "        <td id=\"T_0f0ee962_8252_11e8_a9f8_d200804ad500row1_col1\" class=\"data row1 col1\" >18%</td> \n",
       "    </tr>    <tr> \n",
       "        <th id=\"T_0f0ee962_8252_11e8_a9f8_d200804ad500level0_row2\" class=\"row_heading level0 row2\" >C</th> \n",
       "        <td id=\"T_0f0ee962_8252_11e8_a9f8_d200804ad500row2_col0\" class=\"data row2 col0\" >70%</td> \n",
       "        <td id=\"T_0f0ee962_8252_11e8_a9f8_d200804ad500row2_col1\" class=\"data row2 col1\" >30%</td> \n",
       "    </tr></tbody> \n",
       "</table> "
      ],
      "text/plain": [
       "<pandas.io.formats.style.Styler at 0x11399bc18>"
      ]
     },
     "execution_count": 406,
     "metadata": {},
     "output_type": "execute_result"
    }
   ],
   "source": [
    "period = np.array(['Period 1','Period 2'])\n",
    "region = np.array(['A', 'B', 'C'])\n",
    "outcome = np.array(['Good','Bad'])\n",
    "prob = [[0.75, 0.25],[0.82, 0.18],[0.70,0.30]]\n",
    "pd.DataFrame(prob,index=region,columns=outcome).style.format('{:.0%}').\\\n",
    "    set_caption('Probability Matrix')"
   ]
  },
  {
   "cell_type": "code",
   "execution_count": 407,
   "metadata": {},
   "outputs": [],
   "source": [
    "# Period 2 Scenarios\n",
    "from itertools import product\n",
    "scenario = np.array([np.prod(comb) for comb in product(*prob)])\n",
    "n_scen = len(scenario)"
   ]
  },
  {
   "cell_type": "code",
   "execution_count": 421,
   "metadata": {},
   "outputs": [
    {
     "data": {
      "text/html": [
       "<style  type=\"text/css\" >\n",
       "</style>  \n",
       "<table id=\"T_2a3e4922_825b_11e8_b341_d200804ad500\" ><caption>Utilization Matrix</caption> \n",
       "<thead>    <tr> \n",
       "        <th class=\"blank level0\" ></th> \n",
       "        <th class=\"col_heading level0 col0\" >Good</th> \n",
       "        <th class=\"col_heading level0 col1\" >Bad</th> \n",
       "    </tr></thead> \n",
       "<tbody>    <tr> \n",
       "        <th id=\"T_2a3e4922_825b_11e8_b341_d200804ad500level0_row0\" class=\"row_heading level0 row0\" >A</th> \n",
       "        <td id=\"T_2a3e4922_825b_11e8_b341_d200804ad500row0_col0\" class=\"data row0 col0\" >33%</td> \n",
       "        <td id=\"T_2a3e4922_825b_11e8_b341_d200804ad500row0_col1\" class=\"data row0 col1\" >42%</td> \n",
       "    </tr>    <tr> \n",
       "        <th id=\"T_2a3e4922_825b_11e8_b341_d200804ad500level0_row1\" class=\"row_heading level0 row1\" >B</th> \n",
       "        <td id=\"T_2a3e4922_825b_11e8_b341_d200804ad500row1_col0\" class=\"data row1 col0\" >43%</td> \n",
       "        <td id=\"T_2a3e4922_825b_11e8_b341_d200804ad500row1_col1\" class=\"data row1 col1\" >52%</td> \n",
       "    </tr>    <tr> \n",
       "        <th id=\"T_2a3e4922_825b_11e8_b341_d200804ad500level0_row2\" class=\"row_heading level0 row2\" >C</th> \n",
       "        <td id=\"T_2a3e4922_825b_11e8_b341_d200804ad500row2_col0\" class=\"data row2 col0\" >56%</td> \n",
       "        <td id=\"T_2a3e4922_825b_11e8_b341_d200804ad500row2_col1\" class=\"data row2 col1\" >77%</td> \n",
       "    </tr></tbody> \n",
       "</table> "
      ],
      "text/plain": [
       "<pandas.io.formats.style.Styler at 0x113b956a0>"
      ]
     },
     "execution_count": 421,
     "metadata": {},
     "output_type": "execute_result"
    }
   ],
   "source": [
    "utilization = [[0.33, 0.42],[0.43, 0.52],[0.56,0.77]]\n",
    "Um = pd.DataFrame(utilization,index=region,columns=outcome)\n",
    "Um.style.format('{:.0%}').set_caption('Utilization Matrix')"
   ]
  },
  {
   "cell_type": "code",
   "execution_count": 409,
   "metadata": {},
   "outputs": [],
   "source": [
    "util = np.array([comb for comb in product(*utilization)])"
   ]
  },
  {
   "cell_type": "code",
   "execution_count": 410,
   "metadata": {},
   "outputs": [],
   "source": [
    "# Objective Coefficients\n",
    "c = np.concatenate([np.array([0.25, 0.8, 1.5]), \n",
    "                    0.80 * np.array([1,0.5,2,0.25,0.9,.8,1.7,.6]) * scenario,\n",
    "                    0.83 * np.ones(n_scen) * scenario,\n",
    "                    0.81 * np.array([0.5,0.5,0.5,1.5,1.5,1.5,1.5,0.5]) * scenario\n",
    "                   ])"
   ]
  },
  {
   "cell_type": "code",
   "execution_count": 411,
   "metadata": {},
   "outputs": [
    {
     "data": {
      "text/plain": [
       "array([[ 0.67,  0.57,  0.44],\n",
       "       [ 0.67,  0.57,  0.23],\n",
       "       [ 0.67,  0.48,  0.44],\n",
       "       [ 0.67,  0.48,  0.23],\n",
       "       [ 0.58,  0.57,  0.44],\n",
       "       [ 0.58,  0.57,  0.23],\n",
       "       [ 0.58,  0.48,  0.44],\n",
       "       [ 0.58,  0.48,  0.23]])"
      ]
     },
     "execution_count": 411,
     "metadata": {},
     "output_type": "execute_result"
    }
   ],
   "source": [
    "1 - util"
   ]
  },
  {
   "cell_type": "code",
   "execution_count": 412,
   "metadata": {},
   "outputs": [
    {
     "data": {
      "text/plain": [
       "(8, 24)"
      ]
     },
     "execution_count": 412,
     "metadata": {},
     "output_type": "execute_result"
    }
   ],
   "source": [
    "tmp = np.zeros((n_scen, 3 * n_scen))\n",
    "for i in range(n_scen):\n",
    "    tmp[i,i] = 1\n",
    "    tmp[i,i+n_scen] = 1\n",
    "    tmp[i,i+2*n_scen] = 1\n",
    "tmp.shape"
   ]
  },
  {
   "cell_type": "code",
   "execution_count": 413,
   "metadata": {},
   "outputs": [],
   "source": [
    "# Equality Constraints\n",
    "A_eq = np.array([])\n",
    "b_eq = np.array([])"
   ]
  },
  {
   "cell_type": "code",
   "execution_count": 414,
   "metadata": {},
   "outputs": [],
   "source": [
    "# Inequality Constraints\n",
    "# 1) Volume : 1 * x <= 0.85 * n\n",
    "# 2) Risk   : r * x  <= 0.93 * Total_Risk\n",
    "# 3) Age 25_: 1(x_age <= 25) * x <= 0.50 * sum(1(x_age <= 25))\n",
    "\n",
    "A_ub = np.concatenate([\n",
    "    [np.concatenate([np.ones(3),np.zeros(3*n_scen)])],\n",
    "    [np.concatenate([[1,0,0],np.zeros(3*n_scen)])],\n",
    "    [np.concatenate([[0,1,0],np.zeros(3*n_scen)])],\n",
    "    [np.concatenate([[0,0,1],np.zeros(3*n_scen)])],\n",
    "    np.concatenate([util-1,tmp],axis=1)\n",
    "], axis=0)\n",
    "\n",
    "b_ub = np.concatenate([\n",
    "    [10],[3,2.4,1.5],\n",
    "    np.zeros(n_scen)\n",
    "])"
   ]
  },
  {
   "cell_type": "code",
   "execution_count": 415,
   "metadata": {},
   "outputs": [
    {
     "name": "stdout",
     "output_type": "stream",
     "text": [
      "Optimal value: 8.72381438\n"
     ]
    },
    {
     "data": {
      "text/plain": [
       "0.000    10\n",
       "3.500     6\n",
       "0.052     1\n",
       "3.237     1\n",
       "0.322     1\n",
       "0.538     1\n",
       "0.268     1\n",
       "0.223     1\n",
       "2.400     1\n",
       "3.453     1\n",
       "0.007     1\n",
       "1.500     1\n",
       "3.000     1\n",
       "dtype: int64"
      ]
     },
     "execution_count": 415,
     "metadata": {},
     "output_type": "execute_result"
    }
   ],
   "source": [
    "res = linprog(-c, A_ub=A_ub, b_ub=b_ub, bounds=(0.0, 3.5))\n",
    "print('Optimal value:', -res.fun)\n",
    "pd.Series(res.x).value_counts()"
   ]
  },
  {
   "cell_type": "code",
   "execution_count": 416,
   "metadata": {},
   "outputs": [
    {
     "data": {
      "text/plain": [
       "array([ 3.   ,  2.4  ,  1.5  ,  0.538,  0.   ,  3.5  ,  0.   ,  0.   ,\n",
       "        0.   ,  3.5  ,  0.   ,  3.5  ,  3.5  ,  0.322,  0.007,  0.268,\n",
       "        0.   ,  0.   ,  3.237,  0.   ,  0.223,  0.   ,  3.5  ,  3.5  ,\n",
       "        3.453,  0.052,  0.   ])"
      ]
     },
     "execution_count": 416,
     "metadata": {},
     "output_type": "execute_result"
    }
   ],
   "source": [
    "tmp = res.x.copy()\n",
    "tmp"
   ]
  },
  {
   "cell_type": "code",
   "execution_count": 417,
   "metadata": {},
   "outputs": [],
   "source": [
    "tmp = np.concatenate([tmp[:3].reshape(-1,1),tmp[3:].reshape(3,8)],axis=1)"
   ]
  },
  {
   "cell_type": "code",
   "execution_count": 418,
   "metadata": {},
   "outputs": [],
   "source": [
    "Soln = pd.DataFrame(tmp.T,\n",
    "             columns=pd.Series(region,name='Region'),\n",
    "             index=pd.Series([1]+[2]*n_scen,name='Period'))"
   ]
  },
  {
   "cell_type": "code",
   "execution_count": 419,
   "metadata": {},
   "outputs": [],
   "source": [
    "Soln.set_index(pd.Series([0]+list(range(8)),name='Scenario'),\n",
    "               append=True,inplace=True)"
   ]
  },
  {
   "cell_type": "code",
   "execution_count": 420,
   "metadata": {},
   "outputs": [
    {
     "data": {
      "text/html": [
       "<style  type=\"text/css\" >\n",
       "    #T_0f2acb28_8252_11e8_9d46_d200804ad500row0_col0 {\n",
       "            background-color:  #1379b5;\n",
       "        }    #T_0f2acb28_8252_11e8_9d46_d200804ad500row0_col1 {\n",
       "            background-color:  #308cbe;\n",
       "        }    #T_0f2acb28_8252_11e8_9d46_d200804ad500row0_col2 {\n",
       "            background-color:  #67a4cc;\n",
       "        }    #T_0f2acb28_8252_11e8_9d46_d200804ad500row1_col0 {\n",
       "            background-color:  #9cb9d9;\n",
       "        }    #T_0f2acb28_8252_11e8_9d46_d200804ad500row1_col1 {\n",
       "            background-color:  #056ba7;\n",
       "        }    #T_0f2acb28_8252_11e8_9d46_d200804ad500row1_col2 {\n",
       "            background-color:  #b4c4df;\n",
       "        }    #T_0f2acb28_8252_11e8_9d46_d200804ad500row2_col0 {\n",
       "            background-color:  #b4c4df;\n",
       "        }    #T_0f2acb28_8252_11e8_9d46_d200804ad500row2_col1 {\n",
       "            background-color:  #056ba7;\n",
       "        }    #T_0f2acb28_8252_11e8_9d46_d200804ad500row2_col2 {\n",
       "            background-color:  #abbfdc;\n",
       "        }    #T_0f2acb28_8252_11e8_9d46_d200804ad500row3_col0 {\n",
       "            background-color:  #056ba7;\n",
       "        }    #T_0f2acb28_8252_11e8_9d46_d200804ad500row3_col1 {\n",
       "            background-color:  #a7bddb;\n",
       "        }    #T_0f2acb28_8252_11e8_9d46_d200804ad500row3_col2 {\n",
       "            background-color:  #b4c4df;\n",
       "        }    #T_0f2acb28_8252_11e8_9d46_d200804ad500row4_col0 {\n",
       "            background-color:  #b4c4df;\n",
       "        }    #T_0f2acb28_8252_11e8_9d46_d200804ad500row4_col1 {\n",
       "            background-color:  #b4c4df;\n",
       "        }    #T_0f2acb28_8252_11e8_9d46_d200804ad500row4_col2 {\n",
       "            background-color:  #056ba7;\n",
       "        }    #T_0f2acb28_8252_11e8_9d46_d200804ad500row5_col0 {\n",
       "            background-color:  #b4c4df;\n",
       "        }    #T_0f2acb28_8252_11e8_9d46_d200804ad500row5_col1 {\n",
       "            background-color:  #a8bedc;\n",
       "        }    #T_0f2acb28_8252_11e8_9d46_d200804ad500row5_col2 {\n",
       "            background-color:  #056ba7;\n",
       "        }    #T_0f2acb28_8252_11e8_9d46_d200804ad500row6_col0 {\n",
       "            background-color:  #b4c4df;\n",
       "        }    #T_0f2acb28_8252_11e8_9d46_d200804ad500row6_col1 {\n",
       "            background-color:  #b4c4df;\n",
       "        }    #T_0f2acb28_8252_11e8_9d46_d200804ad500row6_col2 {\n",
       "            background-color:  #056caa;\n",
       "        }    #T_0f2acb28_8252_11e8_9d46_d200804ad500row7_col0 {\n",
       "            background-color:  #056ba7;\n",
       "        }    #T_0f2acb28_8252_11e8_9d46_d200804ad500row7_col1 {\n",
       "            background-color:  #b4c4df;\n",
       "        }    #T_0f2acb28_8252_11e8_9d46_d200804ad500row7_col2 {\n",
       "            background-color:  #b1c2de;\n",
       "        }    #T_0f2acb28_8252_11e8_9d46_d200804ad500row8_col0 {\n",
       "            background-color:  #b4c4df;\n",
       "        }    #T_0f2acb28_8252_11e8_9d46_d200804ad500row8_col1 {\n",
       "            background-color:  #0771b1;\n",
       "        }    #T_0f2acb28_8252_11e8_9d46_d200804ad500row8_col2 {\n",
       "            background-color:  #b4c4df;\n",
       "        }</style>  \n",
       "<table id=\"T_0f2acb28_8252_11e8_9d46_d200804ad500\" > \n",
       "<thead>    <tr> \n",
       "        <th class=\"blank\" ></th> \n",
       "        <th class=\"index_name level0\" >Region</th> \n",
       "        <th class=\"col_heading level0 col0\" >A</th> \n",
       "        <th class=\"col_heading level0 col1\" >B</th> \n",
       "        <th class=\"col_heading level0 col2\" >C</th> \n",
       "    </tr>    <tr> \n",
       "        <th class=\"index_name level0\" >Period</th> \n",
       "        <th class=\"index_name level1\" >Scenario</th> \n",
       "        <th class=\"blank\" ></th> \n",
       "        <th class=\"blank\" ></th> \n",
       "        <th class=\"blank\" ></th> \n",
       "    </tr></thead> \n",
       "<tbody>    <tr> \n",
       "        <th id=\"T_0f2acb28_8252_11e8_9d46_d200804ad500level0_row0\" class=\"row_heading level0 row0\" >1</th> \n",
       "        <th id=\"T_0f2acb28_8252_11e8_9d46_d200804ad500level1_row0\" class=\"row_heading level1 row0\" >0</th> \n",
       "        <td id=\"T_0f2acb28_8252_11e8_9d46_d200804ad500row0_col0\" class=\"data row0 col0\" >3.00</td> \n",
       "        <td id=\"T_0f2acb28_8252_11e8_9d46_d200804ad500row0_col1\" class=\"data row0 col1\" >2.40</td> \n",
       "        <td id=\"T_0f2acb28_8252_11e8_9d46_d200804ad500row0_col2\" class=\"data row0 col2\" >1.50</td> \n",
       "    </tr>    <tr> \n",
       "        <th id=\"T_0f2acb28_8252_11e8_9d46_d200804ad500level0_row1\" class=\"row_heading level0 row1\" rowspan=8>2</th> \n",
       "        <th id=\"T_0f2acb28_8252_11e8_9d46_d200804ad500level1_row1\" class=\"row_heading level1 row1\" >0</th> \n",
       "        <td id=\"T_0f2acb28_8252_11e8_9d46_d200804ad500row1_col0\" class=\"data row1 col0\" >0.54</td> \n",
       "        <td id=\"T_0f2acb28_8252_11e8_9d46_d200804ad500row1_col1\" class=\"data row1 col1\" >3.50</td> \n",
       "        <td id=\"T_0f2acb28_8252_11e8_9d46_d200804ad500row1_col2\" class=\"data row1 col2\" >0.00</td> \n",
       "    </tr>    <tr> \n",
       "        <th id=\"T_0f2acb28_8252_11e8_9d46_d200804ad500level1_row2\" class=\"row_heading level1 row2\" >1</th> \n",
       "        <td id=\"T_0f2acb28_8252_11e8_9d46_d200804ad500row2_col0\" class=\"data row2 col0\" >0.00</td> \n",
       "        <td id=\"T_0f2acb28_8252_11e8_9d46_d200804ad500row2_col1\" class=\"data row2 col1\" >3.50</td> \n",
       "        <td id=\"T_0f2acb28_8252_11e8_9d46_d200804ad500row2_col2\" class=\"data row2 col2\" >0.22</td> \n",
       "    </tr>    <tr> \n",
       "        <th id=\"T_0f2acb28_8252_11e8_9d46_d200804ad500level1_row3\" class=\"row_heading level1 row3\" >2</th> \n",
       "        <td id=\"T_0f2acb28_8252_11e8_9d46_d200804ad500row3_col0\" class=\"data row3 col0\" >3.50</td> \n",
       "        <td id=\"T_0f2acb28_8252_11e8_9d46_d200804ad500row3_col1\" class=\"data row3 col1\" >0.32</td> \n",
       "        <td id=\"T_0f2acb28_8252_11e8_9d46_d200804ad500row3_col2\" class=\"data row3 col2\" >0.00</td> \n",
       "    </tr>    <tr> \n",
       "        <th id=\"T_0f2acb28_8252_11e8_9d46_d200804ad500level1_row4\" class=\"row_heading level1 row4\" >3</th> \n",
       "        <td id=\"T_0f2acb28_8252_11e8_9d46_d200804ad500row4_col0\" class=\"data row4 col0\" >0.00</td> \n",
       "        <td id=\"T_0f2acb28_8252_11e8_9d46_d200804ad500row4_col1\" class=\"data row4 col1\" >0.01</td> \n",
       "        <td id=\"T_0f2acb28_8252_11e8_9d46_d200804ad500row4_col2\" class=\"data row4 col2\" >3.50</td> \n",
       "    </tr>    <tr> \n",
       "        <th id=\"T_0f2acb28_8252_11e8_9d46_d200804ad500level1_row5\" class=\"row_heading level1 row5\" >4</th> \n",
       "        <td id=\"T_0f2acb28_8252_11e8_9d46_d200804ad500row5_col0\" class=\"data row5 col0\" >0.00</td> \n",
       "        <td id=\"T_0f2acb28_8252_11e8_9d46_d200804ad500row5_col1\" class=\"data row5 col1\" >0.27</td> \n",
       "        <td id=\"T_0f2acb28_8252_11e8_9d46_d200804ad500row5_col2\" class=\"data row5 col2\" >3.50</td> \n",
       "    </tr>    <tr> \n",
       "        <th id=\"T_0f2acb28_8252_11e8_9d46_d200804ad500level1_row6\" class=\"row_heading level1 row6\" >5</th> \n",
       "        <td id=\"T_0f2acb28_8252_11e8_9d46_d200804ad500row6_col0\" class=\"data row6 col0\" >0.00</td> \n",
       "        <td id=\"T_0f2acb28_8252_11e8_9d46_d200804ad500row6_col1\" class=\"data row6 col1\" >0.00</td> \n",
       "        <td id=\"T_0f2acb28_8252_11e8_9d46_d200804ad500row6_col2\" class=\"data row6 col2\" >3.45</td> \n",
       "    </tr>    <tr> \n",
       "        <th id=\"T_0f2acb28_8252_11e8_9d46_d200804ad500level1_row7\" class=\"row_heading level1 row7\" >6</th> \n",
       "        <td id=\"T_0f2acb28_8252_11e8_9d46_d200804ad500row7_col0\" class=\"data row7 col0\" >3.50</td> \n",
       "        <td id=\"T_0f2acb28_8252_11e8_9d46_d200804ad500row7_col1\" class=\"data row7 col1\" >0.00</td> \n",
       "        <td id=\"T_0f2acb28_8252_11e8_9d46_d200804ad500row7_col2\" class=\"data row7 col2\" >0.05</td> \n",
       "    </tr>    <tr> \n",
       "        <th id=\"T_0f2acb28_8252_11e8_9d46_d200804ad500level1_row8\" class=\"row_heading level1 row8\" >7</th> \n",
       "        <td id=\"T_0f2acb28_8252_11e8_9d46_d200804ad500row8_col0\" class=\"data row8 col0\" >0.00</td> \n",
       "        <td id=\"T_0f2acb28_8252_11e8_9d46_d200804ad500row8_col1\" class=\"data row8 col1\" >3.24</td> \n",
       "        <td id=\"T_0f2acb28_8252_11e8_9d46_d200804ad500row8_col2\" class=\"data row8 col2\" >0.00</td> \n",
       "    </tr></tbody> \n",
       "</table> "
      ],
      "text/plain": [
       "<pandas.io.formats.style.Styler at 0x113b40978>"
      ]
     },
     "execution_count": 420,
     "metadata": {},
     "output_type": "execute_result"
    }
   ],
   "source": [
    "Soln.style.background_gradient(low=.75,high=.5).format('{:0<.2f}')"
   ]
  },
  {
   "cell_type": "code",
   "execution_count": null,
   "metadata": {},
   "outputs": [],
   "source": []
  }
 ],
 "metadata": {
  "kernelspec": {
   "display_name": "Python 3",
   "language": "python",
   "name": "python3"
  },
  "language_info": {
   "codemirror_mode": {
    "name": "ipython",
    "version": 3
   },
   "file_extension": ".py",
   "mimetype": "text/x-python",
   "name": "python",
   "nbconvert_exporter": "python",
   "pygments_lexer": "ipython3",
   "version": "3.6.3"
  }
 },
 "nbformat": 4,
 "nbformat_minor": 2
}
