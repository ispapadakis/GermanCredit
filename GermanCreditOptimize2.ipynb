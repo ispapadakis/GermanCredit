{
 "cells": [
  {
   "cell_type": "markdown",
   "metadata": {},
   "source": [
    "## German Credit Optimization\n",
    "Real Option Optimization"
   ]
  },
  {
   "cell_type": "code",
   "execution_count": 550,
   "metadata": {},
   "outputs": [],
   "source": [
    "import pandas as pd\n",
    "import numpy as np\n",
    "%matplotlib inline\n",
    "\n",
    "from scipy.optimize import linprog"
   ]
  },
  {
   "cell_type": "code",
   "execution_count": 551,
   "metadata": {},
   "outputs": [],
   "source": [
    "df = pd.read_csv('~/Documents/My Samples/germancredit_out.csv')\n",
    "n = len(df)"
   ]
  },
  {
   "cell_type": "code",
   "execution_count": 552,
   "metadata": {},
   "outputs": [
    {
     "data": {
      "text/html": [
       "<style  type=\"text/css\" >\n",
       "</style>  \n",
       "<table id=\"T_e79ed2de_82ce_11e8_93fd_d200804ad500\" ><caption>Probability Matrix</caption> \n",
       "<thead>    <tr> \n",
       "        <th class=\"blank level0\" ></th> \n",
       "        <th class=\"col_heading level0 col0\" >Good</th> \n",
       "        <th class=\"col_heading level0 col1\" >Bad</th> \n",
       "    </tr></thead> \n",
       "<tbody>    <tr> \n",
       "        <th id=\"T_e79ed2de_82ce_11e8_93fd_d200804ad500level0_row0\" class=\"row_heading level0 row0\" >A</th> \n",
       "        <td id=\"T_e79ed2de_82ce_11e8_93fd_d200804ad500row0_col0\" class=\"data row0 col0\" >0.8</td> \n",
       "        <td id=\"T_e79ed2de_82ce_11e8_93fd_d200804ad500row0_col1\" class=\"data row0 col1\" >0.2</td> \n",
       "    </tr>    <tr> \n",
       "        <th id=\"T_e79ed2de_82ce_11e8_93fd_d200804ad500level0_row1\" class=\"row_heading level0 row1\" >B</th> \n",
       "        <td id=\"T_e79ed2de_82ce_11e8_93fd_d200804ad500row1_col0\" class=\"data row1 col0\" >0.8</td> \n",
       "        <td id=\"T_e79ed2de_82ce_11e8_93fd_d200804ad500row1_col1\" class=\"data row1 col1\" >0.2</td> \n",
       "    </tr>    <tr> \n",
       "        <th id=\"T_e79ed2de_82ce_11e8_93fd_d200804ad500level0_row2\" class=\"row_heading level0 row2\" >C</th> \n",
       "        <td id=\"T_e79ed2de_82ce_11e8_93fd_d200804ad500row2_col0\" class=\"data row2 col0\" >0.7</td> \n",
       "        <td id=\"T_e79ed2de_82ce_11e8_93fd_d200804ad500row2_col1\" class=\"data row2 col1\" >0.3</td> \n",
       "    </tr></tbody> \n",
       "</table> "
      ],
      "text/plain": [
       "<pandas.io.formats.style.Styler at 0x114313208>"
      ]
     },
     "execution_count": 552,
     "metadata": {},
     "output_type": "execute_result"
    }
   ],
   "source": [
    "period = np.array(['Period 1','Period 2'])\n",
    "region = np.array(['A', 'B', 'C'])\n",
    "outcome = np.array(['Good','Bad'])\n",
    "prob = [[0.75, 0.25],[0.82, 0.18],[0.70,0.30]]\n",
    "pd.DataFrame(prob,index=region,columns=outcome).style.format('{:.0}').\\\n",
    "    set_caption('Probability Matrix')"
   ]
  },
  {
   "cell_type": "code",
   "execution_count": 553,
   "metadata": {},
   "outputs": [
    {
     "data": {
      "text/html": [
       "<style  type=\"text/css\" >\n",
       "</style>  \n",
       "<table id=\"T_e7a157ca_82ce_11e8_944c_d200804ad500\" ><caption>Period 2 Scenarios</caption> \n",
       "<thead>    <tr> \n",
       "        <th class=\"index_name level0\" >Region</th> \n",
       "        <th class=\"col_heading level0 col0\" >A</th> \n",
       "        <th class=\"col_heading level0 col1\" >B</th> \n",
       "        <th class=\"col_heading level0 col2\" >C</th> \n",
       "        <th class=\"col_heading level0 col3\" >Prob</th> \n",
       "    </tr>    <tr> \n",
       "        <th class=\"index_name level0\" >Scenario</th> \n",
       "        <th class=\"blank\" ></th> \n",
       "        <th class=\"blank\" ></th> \n",
       "        <th class=\"blank\" ></th> \n",
       "        <th class=\"blank\" ></th> \n",
       "    </tr></thead> \n",
       "<tbody>    <tr> \n",
       "        <th id=\"T_e7a157ca_82ce_11e8_944c_d200804ad500level0_row0\" class=\"row_heading level0 row0\" >0</th> \n",
       "        <td id=\"T_e7a157ca_82ce_11e8_944c_d200804ad500row0_col0\" class=\"data row0 col0\" >Good</td> \n",
       "        <td id=\"T_e7a157ca_82ce_11e8_944c_d200804ad500row0_col1\" class=\"data row0 col1\" >Good</td> \n",
       "        <td id=\"T_e7a157ca_82ce_11e8_944c_d200804ad500row0_col2\" class=\"data row0 col2\" >Good</td> \n",
       "        <td id=\"T_e7a157ca_82ce_11e8_944c_d200804ad500row0_col3\" class=\"data row0 col3\" >43.05%</td> \n",
       "    </tr>    <tr> \n",
       "        <th id=\"T_e7a157ca_82ce_11e8_944c_d200804ad500level0_row1\" class=\"row_heading level0 row1\" >1</th> \n",
       "        <td id=\"T_e7a157ca_82ce_11e8_944c_d200804ad500row1_col0\" class=\"data row1 col0\" >Good</td> \n",
       "        <td id=\"T_e7a157ca_82ce_11e8_944c_d200804ad500row1_col1\" class=\"data row1 col1\" >Good</td> \n",
       "        <td id=\"T_e7a157ca_82ce_11e8_944c_d200804ad500row1_col2\" class=\"data row1 col2\" >Bad</td> \n",
       "        <td id=\"T_e7a157ca_82ce_11e8_944c_d200804ad500row1_col3\" class=\"data row1 col3\" >18.45%</td> \n",
       "    </tr>    <tr> \n",
       "        <th id=\"T_e7a157ca_82ce_11e8_944c_d200804ad500level0_row2\" class=\"row_heading level0 row2\" >2</th> \n",
       "        <td id=\"T_e7a157ca_82ce_11e8_944c_d200804ad500row2_col0\" class=\"data row2 col0\" >Good</td> \n",
       "        <td id=\"T_e7a157ca_82ce_11e8_944c_d200804ad500row2_col1\" class=\"data row2 col1\" >Bad</td> \n",
       "        <td id=\"T_e7a157ca_82ce_11e8_944c_d200804ad500row2_col2\" class=\"data row2 col2\" >Good</td> \n",
       "        <td id=\"T_e7a157ca_82ce_11e8_944c_d200804ad500row2_col3\" class=\"data row2 col3\" >9.45%</td> \n",
       "    </tr>    <tr> \n",
       "        <th id=\"T_e7a157ca_82ce_11e8_944c_d200804ad500level0_row3\" class=\"row_heading level0 row3\" >3</th> \n",
       "        <td id=\"T_e7a157ca_82ce_11e8_944c_d200804ad500row3_col0\" class=\"data row3 col0\" >Good</td> \n",
       "        <td id=\"T_e7a157ca_82ce_11e8_944c_d200804ad500row3_col1\" class=\"data row3 col1\" >Bad</td> \n",
       "        <td id=\"T_e7a157ca_82ce_11e8_944c_d200804ad500row3_col2\" class=\"data row3 col2\" >Bad</td> \n",
       "        <td id=\"T_e7a157ca_82ce_11e8_944c_d200804ad500row3_col3\" class=\"data row3 col3\" >4.05%</td> \n",
       "    </tr>    <tr> \n",
       "        <th id=\"T_e7a157ca_82ce_11e8_944c_d200804ad500level0_row4\" class=\"row_heading level0 row4\" >4</th> \n",
       "        <td id=\"T_e7a157ca_82ce_11e8_944c_d200804ad500row4_col0\" class=\"data row4 col0\" >Bad</td> \n",
       "        <td id=\"T_e7a157ca_82ce_11e8_944c_d200804ad500row4_col1\" class=\"data row4 col1\" >Good</td> \n",
       "        <td id=\"T_e7a157ca_82ce_11e8_944c_d200804ad500row4_col2\" class=\"data row4 col2\" >Good</td> \n",
       "        <td id=\"T_e7a157ca_82ce_11e8_944c_d200804ad500row4_col3\" class=\"data row4 col3\" >14.35%</td> \n",
       "    </tr>    <tr> \n",
       "        <th id=\"T_e7a157ca_82ce_11e8_944c_d200804ad500level0_row5\" class=\"row_heading level0 row5\" >5</th> \n",
       "        <td id=\"T_e7a157ca_82ce_11e8_944c_d200804ad500row5_col0\" class=\"data row5 col0\" >Bad</td> \n",
       "        <td id=\"T_e7a157ca_82ce_11e8_944c_d200804ad500row5_col1\" class=\"data row5 col1\" >Good</td> \n",
       "        <td id=\"T_e7a157ca_82ce_11e8_944c_d200804ad500row5_col2\" class=\"data row5 col2\" >Bad</td> \n",
       "        <td id=\"T_e7a157ca_82ce_11e8_944c_d200804ad500row5_col3\" class=\"data row5 col3\" >6.15%</td> \n",
       "    </tr>    <tr> \n",
       "        <th id=\"T_e7a157ca_82ce_11e8_944c_d200804ad500level0_row6\" class=\"row_heading level0 row6\" >6</th> \n",
       "        <td id=\"T_e7a157ca_82ce_11e8_944c_d200804ad500row6_col0\" class=\"data row6 col0\" >Bad</td> \n",
       "        <td id=\"T_e7a157ca_82ce_11e8_944c_d200804ad500row6_col1\" class=\"data row6 col1\" >Bad</td> \n",
       "        <td id=\"T_e7a157ca_82ce_11e8_944c_d200804ad500row6_col2\" class=\"data row6 col2\" >Good</td> \n",
       "        <td id=\"T_e7a157ca_82ce_11e8_944c_d200804ad500row6_col3\" class=\"data row6 col3\" >3.15%</td> \n",
       "    </tr>    <tr> \n",
       "        <th id=\"T_e7a157ca_82ce_11e8_944c_d200804ad500level0_row7\" class=\"row_heading level0 row7\" >7</th> \n",
       "        <td id=\"T_e7a157ca_82ce_11e8_944c_d200804ad500row7_col0\" class=\"data row7 col0\" >Bad</td> \n",
       "        <td id=\"T_e7a157ca_82ce_11e8_944c_d200804ad500row7_col1\" class=\"data row7 col1\" >Bad</td> \n",
       "        <td id=\"T_e7a157ca_82ce_11e8_944c_d200804ad500row7_col2\" class=\"data row7 col2\" >Bad</td> \n",
       "        <td id=\"T_e7a157ca_82ce_11e8_944c_d200804ad500row7_col3\" class=\"data row7 col3\" >1.35%</td> \n",
       "    </tr></tbody> \n",
       "</table> "
      ],
      "text/plain": [
       "<pandas.io.formats.style.Styler at 0x114307e80>"
      ]
     },
     "execution_count": 553,
     "metadata": {},
     "output_type": "execute_result"
    }
   ],
   "source": [
    "# Period 2 Scenarios\n",
    "from itertools import product\n",
    "scenario = np.array([np.prod(comb) for comb in product(*prob)])\n",
    "n_scen = len(scenario)\n",
    "Period_2_Scenarios = pd.DataFrame([comb for comb in product(['Good','Bad'],repeat=3)],\n",
    "             columns=region)\n",
    "Period_2_Scenarios.index.name = 'Scenario'\n",
    "Period_2_Scenarios.columns.name = 'Region'\n",
    "scenario_index = Period_2_Scenarios.index\n",
    "Period_2_Scenarios['Prob'] = scenario\n",
    "Period_2_Scenarios.style.format({'Prob':'{:.2%}'})\\\n",
    "    .set_caption('Period 2 Scenarios')"
   ]
  },
  {
   "cell_type": "code",
   "execution_count": 554,
   "metadata": {},
   "outputs": [
    {
     "data": {
      "text/html": [
       "<style  type=\"text/css\" >\n",
       "</style>  \n",
       "<table id=\"T_e7a35002_82ce_11e8_98f3_d200804ad500\" ><caption>Utilization Matrix</caption> \n",
       "<thead>    <tr> \n",
       "        <th class=\"blank level0\" ></th> \n",
       "        <th class=\"col_heading level0 col0\" >Good</th> \n",
       "        <th class=\"col_heading level0 col1\" >Bad</th> \n",
       "        <th class=\"col_heading level0 col2\" >Average</th> \n",
       "    </tr></thead> \n",
       "<tbody>    <tr> \n",
       "        <th id=\"T_e7a35002_82ce_11e8_98f3_d200804ad500level0_row0\" class=\"row_heading level0 row0\" >A</th> \n",
       "        <td id=\"T_e7a35002_82ce_11e8_98f3_d200804ad500row0_col0\" class=\"data row0 col0\" >33%</td> \n",
       "        <td id=\"T_e7a35002_82ce_11e8_98f3_d200804ad500row0_col1\" class=\"data row0 col1\" >42%</td> \n",
       "        <td id=\"T_e7a35002_82ce_11e8_98f3_d200804ad500row0_col2\" class=\"data row0 col2\" >38%</td> \n",
       "    </tr>    <tr> \n",
       "        <th id=\"T_e7a35002_82ce_11e8_98f3_d200804ad500level0_row1\" class=\"row_heading level0 row1\" >B</th> \n",
       "        <td id=\"T_e7a35002_82ce_11e8_98f3_d200804ad500row1_col0\" class=\"data row1 col0\" >43%</td> \n",
       "        <td id=\"T_e7a35002_82ce_11e8_98f3_d200804ad500row1_col1\" class=\"data row1 col1\" >52%</td> \n",
       "        <td id=\"T_e7a35002_82ce_11e8_98f3_d200804ad500row1_col2\" class=\"data row1 col2\" >48%</td> \n",
       "    </tr>    <tr> \n",
       "        <th id=\"T_e7a35002_82ce_11e8_98f3_d200804ad500level0_row2\" class=\"row_heading level0 row2\" >C</th> \n",
       "        <td id=\"T_e7a35002_82ce_11e8_98f3_d200804ad500row2_col0\" class=\"data row2 col0\" >56%</td> \n",
       "        <td id=\"T_e7a35002_82ce_11e8_98f3_d200804ad500row2_col1\" class=\"data row2 col1\" >77%</td> \n",
       "        <td id=\"T_e7a35002_82ce_11e8_98f3_d200804ad500row2_col2\" class=\"data row2 col2\" >66%</td> \n",
       "    </tr></tbody> \n",
       "</table> "
      ],
      "text/plain": [
       "<pandas.io.formats.style.Styler at 0x11430bf60>"
      ]
     },
     "execution_count": 554,
     "metadata": {},
     "output_type": "execute_result"
    }
   ],
   "source": [
    "utilization = [[0.33, 0.42],[0.43, 0.52],[0.56,0.77]]\n",
    "Um = pd.DataFrame(utilization,index=region,columns=outcome)\n",
    "Um['Average'] = Um.mean(axis=1)\n",
    "Um.style.format('{:.0%}').set_caption('Utilization Matrix')"
   ]
  },
  {
   "cell_type": "code",
   "execution_count": 555,
   "metadata": {},
   "outputs": [],
   "source": [
    "# Period 1 Revenue Rate\n",
    "rev_rate_1 = pd.Series([0.25, 0.8, 1.5], index=region)  # Given\n",
    "# Period 2 Revenue Rate For Each Region and Scenario\n",
    "rev_rate_2 = pd.DataFrame([\n",
    "    [ 0.8 ,  0.4 ,  1.6 ,  0.2 ,  0.72,  0.64,  1.36,  0.48],\n",
    "    [ 0.83,  0.83,  0.83,  0.83,  0.83,  0.83,  0.83,  0.83],\n",
    "    [ 0.405,  0.405,  0.405,  1.215,  1.215,  1.215,  1.215,  0.405]\n",
    "], index=region, columns=scenario_index)"
   ]
  },
  {
   "cell_type": "code",
   "execution_count": 556,
   "metadata": {},
   "outputs": [
    {
     "data": {
      "text/plain": [
       "A    0.25\n",
       "B    0.80\n",
       "C    1.50\n",
       "dtype: float64"
      ]
     },
     "metadata": {},
     "output_type": "display_data"
    },
    {
     "data": {
      "text/html": [
       "<div>\n",
       "<style scoped>\n",
       "    .dataframe tbody tr th:only-of-type {\n",
       "        vertical-align: middle;\n",
       "    }\n",
       "\n",
       "    .dataframe tbody tr th {\n",
       "        vertical-align: top;\n",
       "    }\n",
       "\n",
       "    .dataframe thead th {\n",
       "        text-align: right;\n",
       "    }\n",
       "</style>\n",
       "<table border=\"1\" class=\"dataframe\">\n",
       "  <thead>\n",
       "    <tr style=\"text-align: right;\">\n",
       "      <th></th>\n",
       "      <th>A</th>\n",
       "      <th>B</th>\n",
       "      <th>C</th>\n",
       "    </tr>\n",
       "    <tr>\n",
       "      <th>Scenario</th>\n",
       "      <th></th>\n",
       "      <th></th>\n",
       "      <th></th>\n",
       "    </tr>\n",
       "  </thead>\n",
       "  <tbody>\n",
       "    <tr>\n",
       "      <th>0</th>\n",
       "      <td>0.80</td>\n",
       "      <td>0.83</td>\n",
       "      <td>0.405</td>\n",
       "    </tr>\n",
       "    <tr>\n",
       "      <th>1</th>\n",
       "      <td>0.40</td>\n",
       "      <td>0.83</td>\n",
       "      <td>0.405</td>\n",
       "    </tr>\n",
       "    <tr>\n",
       "      <th>2</th>\n",
       "      <td>1.60</td>\n",
       "      <td>0.83</td>\n",
       "      <td>0.405</td>\n",
       "    </tr>\n",
       "    <tr>\n",
       "      <th>3</th>\n",
       "      <td>0.20</td>\n",
       "      <td>0.83</td>\n",
       "      <td>1.215</td>\n",
       "    </tr>\n",
       "    <tr>\n",
       "      <th>4</th>\n",
       "      <td>0.72</td>\n",
       "      <td>0.83</td>\n",
       "      <td>1.215</td>\n",
       "    </tr>\n",
       "    <tr>\n",
       "      <th>5</th>\n",
       "      <td>0.64</td>\n",
       "      <td>0.83</td>\n",
       "      <td>1.215</td>\n",
       "    </tr>\n",
       "    <tr>\n",
       "      <th>6</th>\n",
       "      <td>1.36</td>\n",
       "      <td>0.83</td>\n",
       "      <td>1.215</td>\n",
       "    </tr>\n",
       "    <tr>\n",
       "      <th>7</th>\n",
       "      <td>0.48</td>\n",
       "      <td>0.83</td>\n",
       "      <td>0.405</td>\n",
       "    </tr>\n",
       "  </tbody>\n",
       "</table>\n",
       "</div>"
      ],
      "text/plain": [
       "             A     B      C\n",
       "Scenario                   \n",
       "0         0.80  0.83  0.405\n",
       "1         0.40  0.83  0.405\n",
       "2         1.60  0.83  0.405\n",
       "3         0.20  0.83  1.215\n",
       "4         0.72  0.83  1.215\n",
       "5         0.64  0.83  1.215\n",
       "6         1.36  0.83  1.215\n",
       "7         0.48  0.83  0.405"
      ]
     },
     "metadata": {},
     "output_type": "display_data"
    }
   ],
   "source": [
    "display(rev_rate_1)\n",
    "display(rev_rate_2.transpose())"
   ]
  },
  {
   "cell_type": "markdown",
   "metadata": {},
   "source": [
    "## Delaying Commitment\n",
    "Using Stochastic Programming"
   ]
  },
  {
   "cell_type": "code",
   "execution_count": 557,
   "metadata": {},
   "outputs": [],
   "source": [
    "# Objective Coefficients\n",
    "c = np.concatenate([rev_rate_1.values, \n",
    "                    rev_rate_2.loc['A'].values * scenario,\n",
    "                    rev_rate_2.loc['B'].values * scenario,\n",
    "                    rev_rate_2.loc['C'].values * scenario\n",
    "                   ])"
   ]
  },
  {
   "cell_type": "code",
   "execution_count": 558,
   "metadata": {},
   "outputs": [
    {
     "data": {
      "text/html": [
       "<div>\n",
       "<style scoped>\n",
       "    .dataframe tbody tr th:only-of-type {\n",
       "        vertical-align: middle;\n",
       "    }\n",
       "\n",
       "    .dataframe tbody tr th {\n",
       "        vertical-align: top;\n",
       "    }\n",
       "\n",
       "    .dataframe thead th {\n",
       "        text-align: right;\n",
       "    }\n",
       "</style>\n",
       "<table border=\"1\" class=\"dataframe\">\n",
       "  <thead>\n",
       "    <tr style=\"text-align: right;\">\n",
       "      <th></th>\n",
       "      <th>A</th>\n",
       "      <th>B</th>\n",
       "      <th>C</th>\n",
       "    </tr>\n",
       "    <tr>\n",
       "      <th>Scenario</th>\n",
       "      <th></th>\n",
       "      <th></th>\n",
       "      <th></th>\n",
       "    </tr>\n",
       "  </thead>\n",
       "  <tbody>\n",
       "    <tr>\n",
       "      <th>0</th>\n",
       "      <td>0.33</td>\n",
       "      <td>0.43</td>\n",
       "      <td>0.56</td>\n",
       "    </tr>\n",
       "    <tr>\n",
       "      <th>1</th>\n",
       "      <td>0.33</td>\n",
       "      <td>0.43</td>\n",
       "      <td>0.77</td>\n",
       "    </tr>\n",
       "    <tr>\n",
       "      <th>2</th>\n",
       "      <td>0.33</td>\n",
       "      <td>0.52</td>\n",
       "      <td>0.56</td>\n",
       "    </tr>\n",
       "    <tr>\n",
       "      <th>3</th>\n",
       "      <td>0.33</td>\n",
       "      <td>0.52</td>\n",
       "      <td>0.77</td>\n",
       "    </tr>\n",
       "    <tr>\n",
       "      <th>4</th>\n",
       "      <td>0.42</td>\n",
       "      <td>0.43</td>\n",
       "      <td>0.56</td>\n",
       "    </tr>\n",
       "    <tr>\n",
       "      <th>5</th>\n",
       "      <td>0.42</td>\n",
       "      <td>0.43</td>\n",
       "      <td>0.77</td>\n",
       "    </tr>\n",
       "    <tr>\n",
       "      <th>6</th>\n",
       "      <td>0.42</td>\n",
       "      <td>0.52</td>\n",
       "      <td>0.56</td>\n",
       "    </tr>\n",
       "    <tr>\n",
       "      <th>7</th>\n",
       "      <td>0.42</td>\n",
       "      <td>0.52</td>\n",
       "      <td>0.77</td>\n",
       "    </tr>\n",
       "  </tbody>\n",
       "</table>\n",
       "</div>"
      ],
      "text/plain": [
       "             A     B     C\n",
       "Scenario                  \n",
       "0         0.33  0.43  0.56\n",
       "1         0.33  0.43  0.77\n",
       "2         0.33  0.52  0.56\n",
       "3         0.33  0.52  0.77\n",
       "4         0.42  0.43  0.56\n",
       "5         0.42  0.43  0.77\n",
       "6         0.42  0.52  0.56\n",
       "7         0.42  0.52  0.77"
      ]
     },
     "execution_count": 558,
     "metadata": {},
     "output_type": "execute_result"
    }
   ],
   "source": [
    "# Utilization in Each Scenario\n",
    "util = np.array([comb for comb in product(*utilization)])\n",
    "pd.DataFrame(util,columns=region,index=scenario_index)"
   ]
  },
  {
   "cell_type": "code",
   "execution_count": 559,
   "metadata": {},
   "outputs": [
    {
     "data": {
      "text/plain": [
       "(8, 24)"
      ]
     },
     "execution_count": 559,
     "metadata": {},
     "output_type": "execute_result"
    }
   ],
   "source": [
    "tmp = np.zeros((n_scen, 3 * n_scen))\n",
    "for i in range(n_scen):\n",
    "    tmp[i,i] = 1\n",
    "    tmp[i,i+n_scen] = 1\n",
    "    tmp[i,i+2*n_scen] = 1\n",
    "tmp.shape"
   ]
  },
  {
   "cell_type": "code",
   "execution_count": 560,
   "metadata": {},
   "outputs": [
    {
     "name": "stdout",
     "output_type": "stream",
     "text": [
      "Problem Size (12, 27)\n",
      "Objective Coefficients (27,)\n",
      "No of Constraints (12,)\n"
     ]
    }
   ],
   "source": [
    "# Inequality Constraints\n",
    "# 1) Budget Limit\n",
    "# 2) Region A Limit for Period 1\n",
    "# 3) Region B Limit for Period 1\n",
    "# 4) Region C Limit for Period 1\n",
    "# 5 - 12) Period 2 Budget Limit (1 For Each Scenario)\n",
    "\n",
    "A_ub = np.concatenate([\n",
    "    [np.concatenate([np.ones(3),np.zeros(3*n_scen)])],\n",
    "    [np.concatenate([[1,0,0],np.zeros(3*n_scen)])],\n",
    "    [np.concatenate([[0,1,0],np.zeros(3*n_scen)])],\n",
    "    [np.concatenate([[0,0,1],np.zeros(3*n_scen)])],\n",
    "    np.concatenate([util-1,tmp],axis=1)\n",
    "], axis=0)\n",
    "\n",
    "b_ub = np.concatenate([\n",
    "    [10],[3,2.4,1.5],\n",
    "    np.zeros(n_scen)\n",
    "])\n",
    "\n",
    "print('Problem Size',A_ub.shape)\n",
    "print('Objective Coefficients',c.shape)\n",
    "print('No of Constraints',b_ub.shape)"
   ]
  },
  {
   "cell_type": "code",
   "execution_count": 561,
   "metadata": {},
   "outputs": [
    {
     "name": "stdout",
     "output_type": "stream",
     "text": [
      "Optimal value: $8.72M\n"
     ]
    }
   ],
   "source": [
    "# Maximize Revenue Given Period 1, Period 2 Constraints, and Allocation Bounds\n",
    "res_SP = linprog(-c, A_ub=A_ub, b_ub=b_ub, bounds=(0.0, 3.5))\n",
    "print('Optimal value: ${:,.2f}M'.format(-res_SP.fun))"
   ]
  },
  {
   "cell_type": "code",
   "execution_count": 562,
   "metadata": {},
   "outputs": [],
   "source": [
    "tmp = res_SP.x.copy()"
   ]
  },
  {
   "cell_type": "code",
   "execution_count": 563,
   "metadata": {},
   "outputs": [],
   "source": [
    "tmp = np.concatenate([tmp[:3].reshape(-1,1),tmp[3:].reshape(3,8)],axis=1)"
   ]
  },
  {
   "cell_type": "code",
   "execution_count": 564,
   "metadata": {},
   "outputs": [],
   "source": [
    "Soln = pd.DataFrame(tmp.T,\n",
    "             columns=pd.Series(region,name='Region'),\n",
    "             index=pd.Series([1]+[2]*n_scen,name='Period'))"
   ]
  },
  {
   "cell_type": "code",
   "execution_count": 565,
   "metadata": {},
   "outputs": [],
   "source": [
    "Soln.set_index(pd.Series([0]+list(range(8)),name='Scenario'),\n",
    "               append=True,inplace=True)"
   ]
  },
  {
   "cell_type": "code",
   "execution_count": 566,
   "metadata": {},
   "outputs": [
    {
     "data": {
      "text/html": [
       "<style  type=\"text/css\" >\n",
       "    #T_e7c83070_82ce_11e8_9cb8_d200804ad500row0_col0 {\n",
       "            background-color:  #1379b5;\n",
       "        }    #T_e7c83070_82ce_11e8_9cb8_d200804ad500row0_col1 {\n",
       "            background-color:  #308cbe;\n",
       "        }    #T_e7c83070_82ce_11e8_9cb8_d200804ad500row0_col2 {\n",
       "            background-color:  #67a4cc;\n",
       "        }    #T_e7c83070_82ce_11e8_9cb8_d200804ad500row1_col0 {\n",
       "            background-color:  #9cb9d9;\n",
       "        }    #T_e7c83070_82ce_11e8_9cb8_d200804ad500row1_col1 {\n",
       "            background-color:  #056ba7;\n",
       "        }    #T_e7c83070_82ce_11e8_9cb8_d200804ad500row1_col2 {\n",
       "            background-color:  #b4c4df;\n",
       "        }    #T_e7c83070_82ce_11e8_9cb8_d200804ad500row2_col0 {\n",
       "            background-color:  #b4c4df;\n",
       "        }    #T_e7c83070_82ce_11e8_9cb8_d200804ad500row2_col1 {\n",
       "            background-color:  #056ba7;\n",
       "        }    #T_e7c83070_82ce_11e8_9cb8_d200804ad500row2_col2 {\n",
       "            background-color:  #abbfdc;\n",
       "        }    #T_e7c83070_82ce_11e8_9cb8_d200804ad500row3_col0 {\n",
       "            background-color:  #056ba7;\n",
       "        }    #T_e7c83070_82ce_11e8_9cb8_d200804ad500row3_col1 {\n",
       "            background-color:  #a7bddb;\n",
       "        }    #T_e7c83070_82ce_11e8_9cb8_d200804ad500row3_col2 {\n",
       "            background-color:  #b4c4df;\n",
       "        }    #T_e7c83070_82ce_11e8_9cb8_d200804ad500row4_col0 {\n",
       "            background-color:  #b4c4df;\n",
       "        }    #T_e7c83070_82ce_11e8_9cb8_d200804ad500row4_col1 {\n",
       "            background-color:  #b4c4df;\n",
       "        }    #T_e7c83070_82ce_11e8_9cb8_d200804ad500row4_col2 {\n",
       "            background-color:  #056ba7;\n",
       "        }    #T_e7c83070_82ce_11e8_9cb8_d200804ad500row5_col0 {\n",
       "            background-color:  #b4c4df;\n",
       "        }    #T_e7c83070_82ce_11e8_9cb8_d200804ad500row5_col1 {\n",
       "            background-color:  #a8bedc;\n",
       "        }    #T_e7c83070_82ce_11e8_9cb8_d200804ad500row5_col2 {\n",
       "            background-color:  #056ba7;\n",
       "        }    #T_e7c83070_82ce_11e8_9cb8_d200804ad500row6_col0 {\n",
       "            background-color:  #b4c4df;\n",
       "        }    #T_e7c83070_82ce_11e8_9cb8_d200804ad500row6_col1 {\n",
       "            background-color:  #b4c4df;\n",
       "        }    #T_e7c83070_82ce_11e8_9cb8_d200804ad500row6_col2 {\n",
       "            background-color:  #056caa;\n",
       "        }    #T_e7c83070_82ce_11e8_9cb8_d200804ad500row7_col0 {\n",
       "            background-color:  #056ba7;\n",
       "        }    #T_e7c83070_82ce_11e8_9cb8_d200804ad500row7_col1 {\n",
       "            background-color:  #b4c4df;\n",
       "        }    #T_e7c83070_82ce_11e8_9cb8_d200804ad500row7_col2 {\n",
       "            background-color:  #b1c2de;\n",
       "        }    #T_e7c83070_82ce_11e8_9cb8_d200804ad500row8_col0 {\n",
       "            background-color:  #b4c4df;\n",
       "        }    #T_e7c83070_82ce_11e8_9cb8_d200804ad500row8_col1 {\n",
       "            background-color:  #0771b1;\n",
       "        }    #T_e7c83070_82ce_11e8_9cb8_d200804ad500row8_col2 {\n",
       "            background-color:  #b4c4df;\n",
       "        }</style>  \n",
       "<table id=\"T_e7c83070_82ce_11e8_9cb8_d200804ad500\" > \n",
       "<thead>    <tr> \n",
       "        <th class=\"blank\" ></th> \n",
       "        <th class=\"index_name level0\" >Region</th> \n",
       "        <th class=\"col_heading level0 col0\" >A</th> \n",
       "        <th class=\"col_heading level0 col1\" >B</th> \n",
       "        <th class=\"col_heading level0 col2\" >C</th> \n",
       "    </tr>    <tr> \n",
       "        <th class=\"index_name level0\" >Period</th> \n",
       "        <th class=\"index_name level1\" >Scenario</th> \n",
       "        <th class=\"blank\" ></th> \n",
       "        <th class=\"blank\" ></th> \n",
       "        <th class=\"blank\" ></th> \n",
       "    </tr></thead> \n",
       "<tbody>    <tr> \n",
       "        <th id=\"T_e7c83070_82ce_11e8_9cb8_d200804ad500level0_row0\" class=\"row_heading level0 row0\" >1</th> \n",
       "        <th id=\"T_e7c83070_82ce_11e8_9cb8_d200804ad500level1_row0\" class=\"row_heading level1 row0\" >0</th> \n",
       "        <td id=\"T_e7c83070_82ce_11e8_9cb8_d200804ad500row0_col0\" class=\"data row0 col0\" >3.00</td> \n",
       "        <td id=\"T_e7c83070_82ce_11e8_9cb8_d200804ad500row0_col1\" class=\"data row0 col1\" >2.40</td> \n",
       "        <td id=\"T_e7c83070_82ce_11e8_9cb8_d200804ad500row0_col2\" class=\"data row0 col2\" >1.50</td> \n",
       "    </tr>    <tr> \n",
       "        <th id=\"T_e7c83070_82ce_11e8_9cb8_d200804ad500level0_row1\" class=\"row_heading level0 row1\" rowspan=8>2</th> \n",
       "        <th id=\"T_e7c83070_82ce_11e8_9cb8_d200804ad500level1_row1\" class=\"row_heading level1 row1\" >0</th> \n",
       "        <td id=\"T_e7c83070_82ce_11e8_9cb8_d200804ad500row1_col0\" class=\"data row1 col0\" >0.54</td> \n",
       "        <td id=\"T_e7c83070_82ce_11e8_9cb8_d200804ad500row1_col1\" class=\"data row1 col1\" >3.50</td> \n",
       "        <td id=\"T_e7c83070_82ce_11e8_9cb8_d200804ad500row1_col2\" class=\"data row1 col2\" >0.00</td> \n",
       "    </tr>    <tr> \n",
       "        <th id=\"T_e7c83070_82ce_11e8_9cb8_d200804ad500level1_row2\" class=\"row_heading level1 row2\" >1</th> \n",
       "        <td id=\"T_e7c83070_82ce_11e8_9cb8_d200804ad500row2_col0\" class=\"data row2 col0\" >0.00</td> \n",
       "        <td id=\"T_e7c83070_82ce_11e8_9cb8_d200804ad500row2_col1\" class=\"data row2 col1\" >3.50</td> \n",
       "        <td id=\"T_e7c83070_82ce_11e8_9cb8_d200804ad500row2_col2\" class=\"data row2 col2\" >0.22</td> \n",
       "    </tr>    <tr> \n",
       "        <th id=\"T_e7c83070_82ce_11e8_9cb8_d200804ad500level1_row3\" class=\"row_heading level1 row3\" >2</th> \n",
       "        <td id=\"T_e7c83070_82ce_11e8_9cb8_d200804ad500row3_col0\" class=\"data row3 col0\" >3.50</td> \n",
       "        <td id=\"T_e7c83070_82ce_11e8_9cb8_d200804ad500row3_col1\" class=\"data row3 col1\" >0.32</td> \n",
       "        <td id=\"T_e7c83070_82ce_11e8_9cb8_d200804ad500row3_col2\" class=\"data row3 col2\" >0.00</td> \n",
       "    </tr>    <tr> \n",
       "        <th id=\"T_e7c83070_82ce_11e8_9cb8_d200804ad500level1_row4\" class=\"row_heading level1 row4\" >3</th> \n",
       "        <td id=\"T_e7c83070_82ce_11e8_9cb8_d200804ad500row4_col0\" class=\"data row4 col0\" >0.00</td> \n",
       "        <td id=\"T_e7c83070_82ce_11e8_9cb8_d200804ad500row4_col1\" class=\"data row4 col1\" >0.01</td> \n",
       "        <td id=\"T_e7c83070_82ce_11e8_9cb8_d200804ad500row4_col2\" class=\"data row4 col2\" >3.50</td> \n",
       "    </tr>    <tr> \n",
       "        <th id=\"T_e7c83070_82ce_11e8_9cb8_d200804ad500level1_row5\" class=\"row_heading level1 row5\" >4</th> \n",
       "        <td id=\"T_e7c83070_82ce_11e8_9cb8_d200804ad500row5_col0\" class=\"data row5 col0\" >0.00</td> \n",
       "        <td id=\"T_e7c83070_82ce_11e8_9cb8_d200804ad500row5_col1\" class=\"data row5 col1\" >0.27</td> \n",
       "        <td id=\"T_e7c83070_82ce_11e8_9cb8_d200804ad500row5_col2\" class=\"data row5 col2\" >3.50</td> \n",
       "    </tr>    <tr> \n",
       "        <th id=\"T_e7c83070_82ce_11e8_9cb8_d200804ad500level1_row6\" class=\"row_heading level1 row6\" >5</th> \n",
       "        <td id=\"T_e7c83070_82ce_11e8_9cb8_d200804ad500row6_col0\" class=\"data row6 col0\" >0.00</td> \n",
       "        <td id=\"T_e7c83070_82ce_11e8_9cb8_d200804ad500row6_col1\" class=\"data row6 col1\" >0.00</td> \n",
       "        <td id=\"T_e7c83070_82ce_11e8_9cb8_d200804ad500row6_col2\" class=\"data row6 col2\" >3.45</td> \n",
       "    </tr>    <tr> \n",
       "        <th id=\"T_e7c83070_82ce_11e8_9cb8_d200804ad500level1_row7\" class=\"row_heading level1 row7\" >6</th> \n",
       "        <td id=\"T_e7c83070_82ce_11e8_9cb8_d200804ad500row7_col0\" class=\"data row7 col0\" >3.50</td> \n",
       "        <td id=\"T_e7c83070_82ce_11e8_9cb8_d200804ad500row7_col1\" class=\"data row7 col1\" >0.00</td> \n",
       "        <td id=\"T_e7c83070_82ce_11e8_9cb8_d200804ad500row7_col2\" class=\"data row7 col2\" >0.05</td> \n",
       "    </tr>    <tr> \n",
       "        <th id=\"T_e7c83070_82ce_11e8_9cb8_d200804ad500level1_row8\" class=\"row_heading level1 row8\" >7</th> \n",
       "        <td id=\"T_e7c83070_82ce_11e8_9cb8_d200804ad500row8_col0\" class=\"data row8 col0\" >0.00</td> \n",
       "        <td id=\"T_e7c83070_82ce_11e8_9cb8_d200804ad500row8_col1\" class=\"data row8 col1\" >3.24</td> \n",
       "        <td id=\"T_e7c83070_82ce_11e8_9cb8_d200804ad500row8_col2\" class=\"data row8 col2\" >0.00</td> \n",
       "    </tr></tbody> \n",
       "</table> "
      ],
      "text/plain": [
       "<pandas.io.formats.style.Styler at 0x113bf17f0>"
      ]
     },
     "execution_count": 566,
     "metadata": {},
     "output_type": "execute_result"
    }
   ],
   "source": [
    "Soln.style.background_gradient(low=.75,high=.5).format('{:0<.2f}')"
   ]
  },
  {
   "cell_type": "markdown",
   "metadata": {},
   "source": [
    "## Commit At Period 1\n",
    "Optimize Stochastic Function of Outcomes (here we use Averages)"
   ]
  },
  {
   "cell_type": "code",
   "execution_count": 567,
   "metadata": {},
   "outputs": [],
   "source": [
    "# Objective Coefficients\n",
    "c = np.concatenate( [\n",
    "    rev_rate_1.values,\n",
    "    [\n",
    "        np.dot(rev_rate_2.loc['A'].values,scenario),\n",
    "        np.dot(rev_rate_2.loc['B'].values,scenario),\n",
    "        np.dot(rev_rate_2.loc['C'].values,scenario)\n",
    "    ]\n",
    "])"
   ]
  },
  {
   "cell_type": "code",
   "execution_count": 568,
   "metadata": {},
   "outputs": [
    {
     "data": {
      "text/plain": [
       "array([ 0.375,  0.475,  0.665])"
      ]
     },
     "execution_count": 568,
     "metadata": {},
     "output_type": "execute_result"
    }
   ],
   "source": [
    "# Utilization Average\n",
    "util.mean(axis=0)"
   ]
  },
  {
   "cell_type": "code",
   "execution_count": 569,
   "metadata": {},
   "outputs": [
    {
     "name": "stdout",
     "output_type": "stream",
     "text": [
      "Problem Size (5, 6)\n",
      "Objective Coefficients (6,)\n",
      "No of Constraints (5,)\n"
     ]
    }
   ],
   "source": [
    "# Inequality Constraints\n",
    "# 1) Budget Limit\n",
    "# 2) Region A Limit for Period 1\n",
    "# 3) Region B Limit for Period 1\n",
    "# 4) Region C Limit for Period 1\n",
    "# 5) Period 2 Budget Limit\n",
    "\n",
    "A_ub = np.array([\n",
    "    np.concatenate([np.ones(3),np.zeros(3)]),\n",
    "    np.concatenate([[1,0,0],np.zeros(3)]),\n",
    "    np.concatenate([[0,1,0],np.zeros(3)]),\n",
    "    np.concatenate([[0,0,1],np.zeros(3)]),\n",
    "    np.concatenate([util.mean(axis=0)-1,np.ones(3)])\n",
    "])\n",
    "\n",
    "b_ub = np.concatenate([\n",
    "    [10],[3,2.4,1.5],[0]\n",
    "])\n",
    "\n",
    "print('Problem Size',A_ub.shape)\n",
    "print('Objective Coefficients',c.shape)\n",
    "print('No of Constraints',b_ub.shape)"
   ]
  },
  {
   "cell_type": "code",
   "execution_count": 570,
   "metadata": {},
   "outputs": [
    {
     "name": "stdout",
     "output_type": "stream",
     "text": [
      "Optimal value: $7.93M\n"
     ]
    }
   ],
   "source": [
    "# Maximize Revenue Given Period 1, Period 2 Constraints, and Allocation Bounds\n",
    "res_LP = linprog(-c, A_ub=A_ub, b_ub=b_ub, bounds=(0.0, 3.5))\n",
    "print('Optimal value: ${:,.2f}M'.format(-res_LP.fun))"
   ]
  },
  {
   "cell_type": "code",
   "execution_count": 571,
   "metadata": {},
   "outputs": [],
   "source": [
    "tmp = res_LP.x.copy()"
   ]
  },
  {
   "cell_type": "code",
   "execution_count": 572,
   "metadata": {},
   "outputs": [
    {
     "data": {
      "text/plain": [
       "array([[ 3.    ,  2.4   ,  1.5   ],\n",
       "       [ 0.1375,  3.5   ,  0.    ]])"
      ]
     },
     "execution_count": 572,
     "metadata": {},
     "output_type": "execute_result"
    }
   ],
   "source": [
    "tmp.reshape(2,3)"
   ]
  },
  {
   "cell_type": "code",
   "execution_count": 573,
   "metadata": {},
   "outputs": [],
   "source": [
    "Soln = pd.DataFrame(tmp.reshape(2,3),\n",
    "             columns=pd.Series(region,name='Region'),\n",
    "             index=pd.Series([1,2],name='Period'))"
   ]
  },
  {
   "cell_type": "code",
   "execution_count": 574,
   "metadata": {},
   "outputs": [
    {
     "data": {
      "text/html": [
       "<style  type=\"text/css\" >\n",
       "    #T_e7d47ee8_82ce_11e8_8b19_d200804ad500row0_col0 {\n",
       "            background-color:  #056ba7;\n",
       "        }    #T_e7d47ee8_82ce_11e8_8b19_d200804ad500row0_col1 {\n",
       "            background-color:  #b4c4df;\n",
       "        }    #T_e7d47ee8_82ce_11e8_8b19_d200804ad500row0_col2 {\n",
       "            background-color:  #056ba7;\n",
       "        }    #T_e7d47ee8_82ce_11e8_8b19_d200804ad500row1_col0 {\n",
       "            background-color:  #b4c4df;\n",
       "        }    #T_e7d47ee8_82ce_11e8_8b19_d200804ad500row1_col1 {\n",
       "            background-color:  #056ba7;\n",
       "        }    #T_e7d47ee8_82ce_11e8_8b19_d200804ad500row1_col2 {\n",
       "            background-color:  #b4c4df;\n",
       "        }</style>  \n",
       "<table id=\"T_e7d47ee8_82ce_11e8_8b19_d200804ad500\" > \n",
       "<thead>    <tr> \n",
       "        <th class=\"index_name level0\" >Region</th> \n",
       "        <th class=\"col_heading level0 col0\" >A</th> \n",
       "        <th class=\"col_heading level0 col1\" >B</th> \n",
       "        <th class=\"col_heading level0 col2\" >C</th> \n",
       "    </tr>    <tr> \n",
       "        <th class=\"index_name level0\" >Period</th> \n",
       "        <th class=\"blank\" ></th> \n",
       "        <th class=\"blank\" ></th> \n",
       "        <th class=\"blank\" ></th> \n",
       "    </tr></thead> \n",
       "<tbody>    <tr> \n",
       "        <th id=\"T_e7d47ee8_82ce_11e8_8b19_d200804ad500level0_row0\" class=\"row_heading level0 row0\" >1</th> \n",
       "        <td id=\"T_e7d47ee8_82ce_11e8_8b19_d200804ad500row0_col0\" class=\"data row0 col0\" >3.00</td> \n",
       "        <td id=\"T_e7d47ee8_82ce_11e8_8b19_d200804ad500row0_col1\" class=\"data row0 col1\" >2.40</td> \n",
       "        <td id=\"T_e7d47ee8_82ce_11e8_8b19_d200804ad500row0_col2\" class=\"data row0 col2\" >1.50</td> \n",
       "    </tr>    <tr> \n",
       "        <th id=\"T_e7d47ee8_82ce_11e8_8b19_d200804ad500level0_row1\" class=\"row_heading level0 row1\" >2</th> \n",
       "        <td id=\"T_e7d47ee8_82ce_11e8_8b19_d200804ad500row1_col0\" class=\"data row1 col0\" >0.14</td> \n",
       "        <td id=\"T_e7d47ee8_82ce_11e8_8b19_d200804ad500row1_col1\" class=\"data row1 col1\" >3.50</td> \n",
       "        <td id=\"T_e7d47ee8_82ce_11e8_8b19_d200804ad500row1_col2\" class=\"data row1 col2\" >0.00</td> \n",
       "    </tr></tbody> \n",
       "</table> "
      ],
      "text/plain": [
       "<pandas.io.formats.style.Styler at 0x113b530b8>"
      ]
     },
     "execution_count": 574,
     "metadata": {},
     "output_type": "execute_result"
    }
   ],
   "source": [
    "Soln.style.background_gradient(low=.75,high=.5).format('{:0<.2f}')"
   ]
  },
  {
   "cell_type": "markdown",
   "metadata": {},
   "source": [
    "## Value Of Delayed Commitment"
   ]
  },
  {
   "cell_type": "code",
   "execution_count": 575,
   "metadata": {},
   "outputs": [
    {
     "data": {
      "image/png": "[encoded data removed]",
      "text/plain": [
       "<matplotlib.figure.Figure at 0x114179908>"
      ]
     },
     "metadata": {},
     "output_type": "display_data"
    }
   ],
   "source": [
    "value = pd.Series([-res_SP.fun, -res_LP.fun],\n",
    "                   index=['Delayed Diff','Early Commit'])\n",
    "_ = value.plot.barh(grid=True)"
   ]
  },
  {
   "cell_type": "code",
   "execution_count": 576,
   "metadata": {},
   "outputs": [
    {
     "name": "stdout",
     "output_type": "stream",
     "text": [
      "Difference of Expected Values: $8.72M - $7.93M = $0.79M\n",
      "Delayed Commitment Improvement 10.00%\n"
     ]
    }
   ],
   "source": [
    "d = value['Delayed Diff'] - value['Early Commit']\n",
    "print('Difference of Expected Values: ${:,.2f}M - ${:,.2f}M = ${:,.2f}M'.\\\n",
    "      format(*value, d))\n",
    "print('Delayed Commitment Improvement {:.2%}'.format(d/value['Early Commit']))"
   ]
  }
 ],
 "metadata": {
  "kernelspec": {
   "display_name": "Python 3",
   "language": "python",
   "name": "python3"
  },
  "language_info": {
   "codemirror_mode": {
    "name": "ipython",
    "version": 3
   },
   "file_extension": ".py",
   "mimetype": "text/x-python",
   "name": "python",
   "nbconvert_exporter": "python",
   "pygments_lexer": "ipython3",
   "version": "3.6.3"
  }
 },
 "nbformat": 4,
 "nbformat_minor": 2
}
