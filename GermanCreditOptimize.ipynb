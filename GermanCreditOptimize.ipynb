{
 "cells": [
  {
   "cell_type": "markdown",
   "metadata": {},
   "source": [
    "## German Credit Optimization\n",
    "<p>Optimal Revenue and Risk\n",
    "<p>Given Operational Requirements"
   ]
  },
  {
   "cell_type": "code",
   "execution_count": 1,
   "metadata": {},
   "outputs": [
    {
     "data": {
      "text/html": [
       "<style>\n",
       "table {float:left}\n",
       "</style>\n"
      ],
      "text/plain": [
       "<IPython.core.display.HTML object>"
      ]
     },
     "metadata": {},
     "output_type": "display_data"
    }
   ],
   "source": [
    "%%html\n",
    "<style>\n",
    "table {float:left}\n",
    "</style>"
   ]
  },
  {
   "cell_type": "markdown",
   "metadata": {},
   "source": [
    "### Problem Structure\n",
    "\n",
    "| *MAX:* | Revenue                                                        |\n",
    "| ------ | -------------------------------------------------------------- |\n",
    "| Subject To:                                                             |\n",
    "| Volume | 1<sup>T</sup> * x &le; 0.85 * n                                |\n",
    "| Risk   | 1(r > 0.50)<sup>T</sup> * x  <= 0.95 * sum( 1(r > 0.50) )      |\n",
    "| Age25  | 1(x_age <= 25)<sup>T</sup> * x <= 0.50 * sum( 1(x_age <= 25) ) |"
   ]
  },
  {
   "cell_type": "code",
   "execution_count": 2,
   "metadata": {},
   "outputs": [],
   "source": [
    "import pandas as pd\n",
    "import numpy as np\n",
    "from scipy.optimize import minimize\n",
    "%matplotlib inline"
   ]
  },
  {
   "cell_type": "code",
   "execution_count": 3,
   "metadata": {},
   "outputs": [],
   "source": [
    "df = pd.read_csv('germancredit_out.csv')#.iloc[:500]\n",
    "n = len(df)"
   ]
  },
  {
   "cell_type": "code",
   "execution_count": 4,
   "metadata": {},
   "outputs": [
    {
     "data": {
      "image/png": "[encoded data removed]",
      "text/plain": [
       "<Figure size 432x288 with 1 Axes>"
      ]
     },
     "metadata": {
      "needs_background": "light"
     },
     "output_type": "display_data"
    }
   ],
   "source": [
    "df.risk.hist();"
   ]
  },
  {
   "cell_type": "code",
   "execution_count": 5,
   "metadata": {},
   "outputs": [],
   "source": [
    "from scipy.optimize import linprog"
   ]
  },
  {
   "cell_type": "code",
   "execution_count": 6,
   "metadata": {},
   "outputs": [],
   "source": [
    "# Objective Coefficients\n",
    "# Revenue : c * x \n",
    "c = (df.amount5/df.amount5.sum()).values"
   ]
  },
  {
   "cell_type": "code",
   "execution_count": 7,
   "metadata": {},
   "outputs": [],
   "source": [
    "# Equality Constraints"
   ]
  },
  {
   "cell_type": "code",
   "execution_count": 8,
   "metadata": {},
   "outputs": [],
   "source": [
    "# Inequality Constraints\n",
    "# 1) Volume : 1 * x <= 0.85 * n\n",
    "# 2) Risk   : 1(r > 0.50) * x  <= 0.95 * sum(1(r > 0.50))\n",
    "# 3) Age 25_: 1(x_age <= 25) * x <= 0.50 * sum(1(x_age <= 25))\n",
    "\n",
    "A_ub = np.array([\n",
    "    np.ones(n),\n",
    "    (df.risk >= .50).values.astype('int'),\n",
    "    (df.age13 <= 25).values.astype('int')\n",
    "])\n",
    "\n",
    "b_ub = np.array([\n",
    "    int(0.85 * n),\n",
    "    int(0.95 * np.sum(df.risk >= .50)),\n",
    "    int(0.50 * np.sum(df.age13 <= 25))\n",
    "])"
   ]
  },
  {
   "cell_type": "code",
   "execution_count": 9,
   "metadata": {},
   "outputs": [
    {
     "data": {
      "text/plain": [
       "((1000,), (3, 1000), (3,))"
      ]
     },
     "execution_count": 9,
     "metadata": {},
     "output_type": "execute_result"
    }
   ],
   "source": [
    "c.shape,A_ub.shape,b_ub.shape"
   ]
  },
  {
   "cell_type": "code",
   "execution_count": 10,
   "metadata": {},
   "outputs": [
    {
     "name": "stdout",
     "output_type": "stream",
     "text": [
      "Optimal value: 0.953019602856149\n"
     ]
    },
    {
     "data": {
      "text/plain": [
       "1.0    850\n",
       "0.0    150\n",
       "dtype: int64"
      ]
     },
     "execution_count": 10,
     "metadata": {},
     "output_type": "execute_result"
    }
   ],
   "source": [
    "res = linprog(-c, A_ub=A_ub, b_ub=b_ub, bounds=(0.0, 1.0), options={'maxiter':100000})\n",
    "print('Optimal value:', -res.fun)\n",
    "pd.Series(res.x).value_counts()"
   ]
  },
  {
   "cell_type": "code",
   "execution_count": 11,
   "metadata": {},
   "outputs": [
    {
     "data": {
      "text/plain": [
       "array([850., 163.,  95.])"
      ]
     },
     "execution_count": 11,
     "metadata": {},
     "output_type": "execute_result"
    }
   ],
   "source": [
    "np.matmul(A_ub,res.x)"
   ]
  },
  {
   "cell_type": "code",
   "execution_count": 12,
   "metadata": {},
   "outputs": [
    {
     "name": "stdout",
     "output_type": "stream",
     "text": [
      "\n",
      "\n",
      "\n",
      "Status: 0   / Constraint Slack = [23.  0. 16.]\n",
      "Series([], dtype: int64)\n",
      "\n",
      " PCT= 10 Revenue 80.81%\n",
      "\n",
      "\n",
      "\n",
      "Status: 0   / Constraint Slack = [14.  0. 12.]\n",
      "Series([], dtype: int64)\n",
      "\n",
      " PCT= 15 Revenue 83.10%\n",
      "\n",
      "\n",
      "\n",
      "Status: 0   / Constraint Slack = [ 4.  0. 10.]\n",
      "Series([], dtype: int64)\n",
      "\n",
      " PCT= 20 Revenue 85.43%\n",
      "\n",
      "\n",
      "\n",
      "Status: 0   / Constraint Slack = [0. 0. 9.]\n",
      "Series([], dtype: int64)\n",
      "\n",
      " PCT= 25 Revenue 87.42%\n",
      "\n",
      "\n",
      "\n",
      "Status: 0   / Constraint Slack = [ 0.  0. 12.]\n",
      "Series([], dtype: int64)\n",
      "\n",
      " PCT= 30 Revenue 89.00%\n",
      "\n",
      "\n",
      "\n",
      "Status: 0   / Constraint Slack = [ 0.  0. 12.]\n",
      "Series([], dtype: int64)\n",
      "\n",
      " PCT= 35 Revenue 90.43%\n",
      "\n",
      "\n",
      "\n",
      "Status: 0   / Constraint Slack = [ 0.  0. 11.]\n",
      "Series([], dtype: int64)\n",
      "\n",
      " PCT= 40 Revenue 91.49%\n",
      "\n",
      "\n",
      "\n",
      "Status: 0   / Constraint Slack = [ 0.  0. 11.]\n",
      "Series([], dtype: int64)\n",
      "\n",
      " PCT= 45 Revenue 92.55%\n"
     ]
    }
   ],
   "source": [
    "out = pd.DataFrame()\n",
    "\n",
    "for ratio in range(10,50,5):\n",
    "    b_ub = np.array([\n",
    "        int(0.850 * n),\n",
    "        int(ratio/100. * np.sum(df.risk >= .5)),\n",
    "        int(0.80 * np.sum(df.age13 <= 25))\n",
    "    ])\n",
    "    res = linprog(-c, A_ub=A_ub, b_ub=b_ub,bounds=(0, 1), options={'maxiter':100000})\n",
    "    print('\\n\\n\\nStatus:',res.status, '  / Constraint Slack =',res.slack[:3])\n",
    "    print(pd.Series(res.x[(res.x>1e-9) & (res.x<1-1e-9)]).value_counts())\n",
    "    print('\\n PCT={:3d} Revenue {:.2%}'.format(ratio,-res.fun))\n",
    "    out[ratio] = np.array([-res.fun,\n",
    "                           np.dot(df.risk,res.x)/df.risk.sum()]+list(np.matmul(A_ub,res.x)))"
   ]
  },
  {
   "cell_type": "code",
   "execution_count": 13,
   "metadata": {},
   "outputs": [
    {
     "data": {
      "text/html": [
       "<style  type=\"text/css\" >\n",
       "    #T_a2aac348_fd95_11e9_9a52_989e6331febcrow0_col0 {\n",
       "            width:  10em;\n",
       "             height:  80%;\n",
       "        }    #T_a2aac348_fd95_11e9_9a52_989e6331febcrow0_col1 {\n",
       "            width:  10em;\n",
       "             height:  80%;\n",
       "        }    #T_a2aac348_fd95_11e9_9a52_989e6331febcrow0_col2 {\n",
       "            width:  10em;\n",
       "             height:  80%;\n",
       "        }    #T_a2aac348_fd95_11e9_9a52_989e6331febcrow0_col3 {\n",
       "            width:  10em;\n",
       "             height:  80%;\n",
       "        }    #T_a2aac348_fd95_11e9_9a52_989e6331febcrow0_col4 {\n",
       "            width:  10em;\n",
       "             height:  80%;\n",
       "        }    #T_a2aac348_fd95_11e9_9a52_989e6331febcrow1_col0 {\n",
       "            width:  10em;\n",
       "             height:  80%;\n",
       "            background:  linear-gradient(90deg,#d65f5f 19.5%, transparent 19.5%);\n",
       "        }    #T_a2aac348_fd95_11e9_9a52_989e6331febcrow1_col1 {\n",
       "            width:  10em;\n",
       "             height:  80%;\n",
       "            background:  linear-gradient(90deg,#d65f5f 17.0%, transparent 17.0%);\n",
       "        }    #T_a2aac348_fd95_11e9_9a52_989e6331febcrow1_col2 {\n",
       "            width:  10em;\n",
       "             height:  80%;\n",
       "            background:  linear-gradient(90deg,#d65f5f 39.1%, transparent 39.1%);\n",
       "        }    #T_a2aac348_fd95_11e9_9a52_989e6331febcrow1_col3 {\n",
       "            width:  10em;\n",
       "             height:  80%;\n",
       "            background:  linear-gradient(90deg,#d65f5f 13.4%, transparent 13.4%);\n",
       "        }    #T_a2aac348_fd95_11e9_9a52_989e6331febcrow1_col4 {\n",
       "            width:  10em;\n",
       "             height:  80%;\n",
       "            background:  linear-gradient(90deg,#d65f5f 57.1%, transparent 57.1%);\n",
       "        }    #T_a2aac348_fd95_11e9_9a52_989e6331febcrow2_col0 {\n",
       "            width:  10em;\n",
       "             height:  80%;\n",
       "            background:  linear-gradient(90deg,#d65f5f 39.3%, transparent 39.3%);\n",
       "        }    #T_a2aac348_fd95_11e9_9a52_989e6331febcrow2_col1 {\n",
       "            width:  10em;\n",
       "             height:  80%;\n",
       "            background:  linear-gradient(90deg,#d65f5f 35.2%, transparent 35.2%);\n",
       "        }    #T_a2aac348_fd95_11e9_9a52_989e6331febcrow2_col2 {\n",
       "            width:  10em;\n",
       "             height:  80%;\n",
       "            background:  linear-gradient(90deg,#d65f5f 82.6%, transparent 82.6%);\n",
       "        }    #T_a2aac348_fd95_11e9_9a52_989e6331febcrow2_col3 {\n",
       "            width:  10em;\n",
       "             height:  80%;\n",
       "            background:  linear-gradient(90deg,#d65f5f 28.4%, transparent 28.4%);\n",
       "        }    #T_a2aac348_fd95_11e9_9a52_989e6331febcrow2_col4 {\n",
       "            width:  10em;\n",
       "             height:  80%;\n",
       "            background:  linear-gradient(90deg,#d65f5f 85.7%, transparent 85.7%);\n",
       "        }    #T_a2aac348_fd95_11e9_9a52_989e6331febcrow3_col0 {\n",
       "            width:  10em;\n",
       "             height:  80%;\n",
       "            background:  linear-gradient(90deg,#d65f5f 56.3%, transparent 56.3%);\n",
       "        }    #T_a2aac348_fd95_11e9_9a52_989e6331febcrow3_col1 {\n",
       "            width:  10em;\n",
       "             height:  80%;\n",
       "            background:  linear-gradient(90deg,#d65f5f 53.8%, transparent 53.8%);\n",
       "        }    #T_a2aac348_fd95_11e9_9a52_989e6331febcrow3_col2 {\n",
       "            width:  10em;\n",
       "             height:  80%;\n",
       "            background:  linear-gradient(90deg,#d65f5f 100.0%, transparent 100.0%);\n",
       "        }    #T_a2aac348_fd95_11e9_9a52_989e6331febcrow3_col3 {\n",
       "            width:  10em;\n",
       "             height:  80%;\n",
       "            background:  linear-gradient(90deg,#d65f5f 43.3%, transparent 43.3%);\n",
       "        }    #T_a2aac348_fd95_11e9_9a52_989e6331febcrow3_col4 {\n",
       "            width:  10em;\n",
       "             height:  80%;\n",
       "            background:  linear-gradient(90deg,#d65f5f 100.0%, transparent 100.0%);\n",
       "        }    #T_a2aac348_fd95_11e9_9a52_989e6331febcrow4_col0 {\n",
       "            width:  10em;\n",
       "             height:  80%;\n",
       "            background:  linear-gradient(90deg,#d65f5f 69.8%, transparent 69.8%);\n",
       "        }    #T_a2aac348_fd95_11e9_9a52_989e6331febcrow4_col1 {\n",
       "            width:  10em;\n",
       "             height:  80%;\n",
       "            background:  linear-gradient(90deg,#d65f5f 64.5%, transparent 64.5%);\n",
       "        }    #T_a2aac348_fd95_11e9_9a52_989e6331febcrow4_col2 {\n",
       "            width:  10em;\n",
       "             height:  80%;\n",
       "            background:  linear-gradient(90deg,#d65f5f 100.0%, transparent 100.0%);\n",
       "        }    #T_a2aac348_fd95_11e9_9a52_989e6331febcrow4_col3 {\n",
       "            width:  10em;\n",
       "             height:  80%;\n",
       "            background:  linear-gradient(90deg,#d65f5f 56.7%, transparent 56.7%);\n",
       "        }    #T_a2aac348_fd95_11e9_9a52_989e6331febcrow4_col4 {\n",
       "            width:  10em;\n",
       "             height:  80%;\n",
       "            background:  linear-gradient(90deg,#d65f5f 57.1%, transparent 57.1%);\n",
       "        }    #T_a2aac348_fd95_11e9_9a52_989e6331febcrow5_col0 {\n",
       "            width:  10em;\n",
       "             height:  80%;\n",
       "            background:  linear-gradient(90deg,#d65f5f 82.0%, transparent 82.0%);\n",
       "        }    #T_a2aac348_fd95_11e9_9a52_989e6331febcrow5_col1 {\n",
       "            width:  10em;\n",
       "             height:  80%;\n",
       "            background:  linear-gradient(90deg,#d65f5f 76.8%, transparent 76.8%);\n",
       "        }    #T_a2aac348_fd95_11e9_9a52_989e6331febcrow5_col2 {\n",
       "            width:  10em;\n",
       "             height:  80%;\n",
       "            background:  linear-gradient(90deg,#d65f5f 100.0%, transparent 100.0%);\n",
       "        }    #T_a2aac348_fd95_11e9_9a52_989e6331febcrow5_col3 {\n",
       "            width:  10em;\n",
       "             height:  80%;\n",
       "            background:  linear-gradient(90deg,#d65f5f 71.6%, transparent 71.6%);\n",
       "        }    #T_a2aac348_fd95_11e9_9a52_989e6331febcrow5_col4 {\n",
       "            width:  10em;\n",
       "             height:  80%;\n",
       "            background:  linear-gradient(90deg,#d65f5f 57.1%, transparent 57.1%);\n",
       "        }    #T_a2aac348_fd95_11e9_9a52_989e6331febcrow6_col0 {\n",
       "            width:  10em;\n",
       "             height:  80%;\n",
       "            background:  linear-gradient(90deg,#d65f5f 91.0%, transparent 91.0%);\n",
       "        }    #T_a2aac348_fd95_11e9_9a52_989e6331febcrow6_col1 {\n",
       "            width:  10em;\n",
       "             height:  80%;\n",
       "            background:  linear-gradient(90deg,#d65f5f 88.3%, transparent 88.3%);\n",
       "        }    #T_a2aac348_fd95_11e9_9a52_989e6331febcrow6_col2 {\n",
       "            width:  10em;\n",
       "             height:  80%;\n",
       "            background:  linear-gradient(90deg,#d65f5f 100.0%, transparent 100.0%);\n",
       "        }    #T_a2aac348_fd95_11e9_9a52_989e6331febcrow6_col3 {\n",
       "            width:  10em;\n",
       "             height:  80%;\n",
       "            background:  linear-gradient(90deg,#d65f5f 85.1%, transparent 85.1%);\n",
       "        }    #T_a2aac348_fd95_11e9_9a52_989e6331febcrow6_col4 {\n",
       "            width:  10em;\n",
       "             height:  80%;\n",
       "            background:  linear-gradient(90deg,#d65f5f 71.4%, transparent 71.4%);\n",
       "        }    #T_a2aac348_fd95_11e9_9a52_989e6331febcrow7_col0 {\n",
       "            width:  10em;\n",
       "             height:  80%;\n",
       "            background:  linear-gradient(90deg,#d65f5f 100.0%, transparent 100.0%);\n",
       "        }    #T_a2aac348_fd95_11e9_9a52_989e6331febcrow7_col1 {\n",
       "            width:  10em;\n",
       "             height:  80%;\n",
       "            background:  linear-gradient(90deg,#d65f5f 100.0%, transparent 100.0%);\n",
       "        }    #T_a2aac348_fd95_11e9_9a52_989e6331febcrow7_col2 {\n",
       "            width:  10em;\n",
       "             height:  80%;\n",
       "            background:  linear-gradient(90deg,#d65f5f 100.0%, transparent 100.0%);\n",
       "        }    #T_a2aac348_fd95_11e9_9a52_989e6331febcrow7_col3 {\n",
       "            width:  10em;\n",
       "             height:  80%;\n",
       "            background:  linear-gradient(90deg,#d65f5f 100.0%, transparent 100.0%);\n",
       "        }    #T_a2aac348_fd95_11e9_9a52_989e6331febcrow7_col4 {\n",
       "            width:  10em;\n",
       "             height:  80%;\n",
       "            background:  linear-gradient(90deg,#d65f5f 71.4%, transparent 71.4%);\n",
       "        }</style><table id=\"T_a2aac348_fd95_11e9_9a52_989e6331febc\" ><thead>    <tr>        <th class=\"blank level0\" ></th>        <th class=\"col_heading level0 col0\" >Revenue</th>        <th class=\"col_heading level0 col1\" >Risk</th>        <th class=\"col_heading level0 col2\" >Volume</th>        <th class=\"col_heading level0 col3\" >Risk50+</th>        <th class=\"col_heading level0 col4\" >Age25Count</th>    </tr></thead><tbody>\n",
       "                <tr>\n",
       "                        <th id=\"T_a2aac348_fd95_11e9_9a52_989e6331febclevel0_row0\" class=\"row_heading level0 row0\" >10</th>\n",
       "                        <td id=\"T_a2aac348_fd95_11e9_9a52_989e6331febcrow0_col0\" class=\"data row0 col0\" >0.81</td>\n",
       "                        <td id=\"T_a2aac348_fd95_11e9_9a52_989e6331febcrow0_col1\" class=\"data row0 col1\" >0.63</td>\n",
       "                        <td id=\"T_a2aac348_fd95_11e9_9a52_989e6331febcrow0_col2\" class=\"data row0 col2\" >827.00</td>\n",
       "                        <td id=\"T_a2aac348_fd95_11e9_9a52_989e6331febcrow0_col3\" class=\"data row0 col3\" >19.00</td>\n",
       "                        <td id=\"T_a2aac348_fd95_11e9_9a52_989e6331febcrow0_col4\" class=\"data row0 col4\" >136.00</td>\n",
       "            </tr>\n",
       "            <tr>\n",
       "                        <th id=\"T_a2aac348_fd95_11e9_9a52_989e6331febclevel0_row1\" class=\"row_heading level0 row1\" >15</th>\n",
       "                        <td id=\"T_a2aac348_fd95_11e9_9a52_989e6331febcrow1_col0\" class=\"data row1 col0\" >0.83</td>\n",
       "                        <td id=\"T_a2aac348_fd95_11e9_9a52_989e6331febcrow1_col1\" class=\"data row1 col1\" >0.65</td>\n",
       "                        <td id=\"T_a2aac348_fd95_11e9_9a52_989e6331febcrow1_col2\" class=\"data row1 col2\" >836.00</td>\n",
       "                        <td id=\"T_a2aac348_fd95_11e9_9a52_989e6331febcrow1_col3\" class=\"data row1 col3\" >28.00</td>\n",
       "                        <td id=\"T_a2aac348_fd95_11e9_9a52_989e6331febcrow1_col4\" class=\"data row1 col4\" >140.00</td>\n",
       "            </tr>\n",
       "            <tr>\n",
       "                        <th id=\"T_a2aac348_fd95_11e9_9a52_989e6331febclevel0_row2\" class=\"row_heading level0 row2\" >20</th>\n",
       "                        <td id=\"T_a2aac348_fd95_11e9_9a52_989e6331febcrow2_col0\" class=\"data row2 col0\" >0.85</td>\n",
       "                        <td id=\"T_a2aac348_fd95_11e9_9a52_989e6331febcrow2_col1\" class=\"data row2 col1\" >0.67</td>\n",
       "                        <td id=\"T_a2aac348_fd95_11e9_9a52_989e6331febcrow2_col2\" class=\"data row2 col2\" >846.00</td>\n",
       "                        <td id=\"T_a2aac348_fd95_11e9_9a52_989e6331febcrow2_col3\" class=\"data row2 col3\" >38.00</td>\n",
       "                        <td id=\"T_a2aac348_fd95_11e9_9a52_989e6331febcrow2_col4\" class=\"data row2 col4\" >142.00</td>\n",
       "            </tr>\n",
       "            <tr>\n",
       "                        <th id=\"T_a2aac348_fd95_11e9_9a52_989e6331febclevel0_row3\" class=\"row_heading level0 row3\" >25</th>\n",
       "                        <td id=\"T_a2aac348_fd95_11e9_9a52_989e6331febcrow3_col0\" class=\"data row3 col0\" >0.87</td>\n",
       "                        <td id=\"T_a2aac348_fd95_11e9_9a52_989e6331febcrow3_col1\" class=\"data row3 col1\" >0.69</td>\n",
       "                        <td id=\"T_a2aac348_fd95_11e9_9a52_989e6331febcrow3_col2\" class=\"data row3 col2\" >850.00</td>\n",
       "                        <td id=\"T_a2aac348_fd95_11e9_9a52_989e6331febcrow3_col3\" class=\"data row3 col3\" >48.00</td>\n",
       "                        <td id=\"T_a2aac348_fd95_11e9_9a52_989e6331febcrow3_col4\" class=\"data row3 col4\" >143.00</td>\n",
       "            </tr>\n",
       "            <tr>\n",
       "                        <th id=\"T_a2aac348_fd95_11e9_9a52_989e6331febclevel0_row4\" class=\"row_heading level0 row4\" >30</th>\n",
       "                        <td id=\"T_a2aac348_fd95_11e9_9a52_989e6331febcrow4_col0\" class=\"data row4 col0\" >0.89</td>\n",
       "                        <td id=\"T_a2aac348_fd95_11e9_9a52_989e6331febcrow4_col1\" class=\"data row4 col1\" >0.71</td>\n",
       "                        <td id=\"T_a2aac348_fd95_11e9_9a52_989e6331febcrow4_col2\" class=\"data row4 col2\" >850.00</td>\n",
       "                        <td id=\"T_a2aac348_fd95_11e9_9a52_989e6331febcrow4_col3\" class=\"data row4 col3\" >57.00</td>\n",
       "                        <td id=\"T_a2aac348_fd95_11e9_9a52_989e6331febcrow4_col4\" class=\"data row4 col4\" >140.00</td>\n",
       "            </tr>\n",
       "            <tr>\n",
       "                        <th id=\"T_a2aac348_fd95_11e9_9a52_989e6331febclevel0_row5\" class=\"row_heading level0 row5\" >35</th>\n",
       "                        <td id=\"T_a2aac348_fd95_11e9_9a52_989e6331febcrow5_col0\" class=\"data row5 col0\" >0.90</td>\n",
       "                        <td id=\"T_a2aac348_fd95_11e9_9a52_989e6331febcrow5_col1\" class=\"data row5 col1\" >0.72</td>\n",
       "                        <td id=\"T_a2aac348_fd95_11e9_9a52_989e6331febcrow5_col2\" class=\"data row5 col2\" >850.00</td>\n",
       "                        <td id=\"T_a2aac348_fd95_11e9_9a52_989e6331febcrow5_col3\" class=\"data row5 col3\" >67.00</td>\n",
       "                        <td id=\"T_a2aac348_fd95_11e9_9a52_989e6331febcrow5_col4\" class=\"data row5 col4\" >140.00</td>\n",
       "            </tr>\n",
       "            <tr>\n",
       "                        <th id=\"T_a2aac348_fd95_11e9_9a52_989e6331febclevel0_row6\" class=\"row_heading level0 row6\" >40</th>\n",
       "                        <td id=\"T_a2aac348_fd95_11e9_9a52_989e6331febcrow6_col0\" class=\"data row6 col0\" >0.91</td>\n",
       "                        <td id=\"T_a2aac348_fd95_11e9_9a52_989e6331febcrow6_col1\" class=\"data row6 col1\" >0.74</td>\n",
       "                        <td id=\"T_a2aac348_fd95_11e9_9a52_989e6331febcrow6_col2\" class=\"data row6 col2\" >850.00</td>\n",
       "                        <td id=\"T_a2aac348_fd95_11e9_9a52_989e6331febcrow6_col3\" class=\"data row6 col3\" >76.00</td>\n",
       "                        <td id=\"T_a2aac348_fd95_11e9_9a52_989e6331febcrow6_col4\" class=\"data row6 col4\" >141.00</td>\n",
       "            </tr>\n",
       "            <tr>\n",
       "                        <th id=\"T_a2aac348_fd95_11e9_9a52_989e6331febclevel0_row7\" class=\"row_heading level0 row7\" >45</th>\n",
       "                        <td id=\"T_a2aac348_fd95_11e9_9a52_989e6331febcrow7_col0\" class=\"data row7 col0\" >0.93</td>\n",
       "                        <td id=\"T_a2aac348_fd95_11e9_9a52_989e6331febcrow7_col1\" class=\"data row7 col1\" >0.75</td>\n",
       "                        <td id=\"T_a2aac348_fd95_11e9_9a52_989e6331febcrow7_col2\" class=\"data row7 col2\" >850.00</td>\n",
       "                        <td id=\"T_a2aac348_fd95_11e9_9a52_989e6331febcrow7_col3\" class=\"data row7 col3\" >86.00</td>\n",
       "                        <td id=\"T_a2aac348_fd95_11e9_9a52_989e6331febcrow7_col4\" class=\"data row7 col4\" >141.00</td>\n",
       "            </tr>\n",
       "    </tbody></table>"
      ],
      "text/plain": [
       "<pandas.io.formats.style.Styler at 0x1223e3a20>"
      ]
     },
     "execution_count": 13,
     "metadata": {},
     "output_type": "execute_result"
    }
   ],
   "source": [
    "out.index = ['Revenue','Risk','Volume','Risk50+','Age25Count']\n",
    "out.transpose().style.format('{:.2f}').bar()"
   ]
  },
  {
   "cell_type": "code",
   "execution_count": 14,
   "metadata": {},
   "outputs": [
    {
     "data": {
      "image/png": "[encoded data removed]",
      "text/plain": [
       "<Figure size 432x288 with 1 Axes>"
      ]
     },
     "metadata": {
      "needs_background": "light"
     },
     "output_type": "display_data"
    }
   ],
   "source": [
    "_ = out.transpose().Revenue.plot(title='Revenue v Risk Req',grid=True)"
   ]
  },
  {
   "cell_type": "code",
   "execution_count": 15,
   "metadata": {},
   "outputs": [
    {
     "data": {
      "image/png": "[encoded data removed]",
      "text/plain": [
       "<Figure size 432x288 with 1 Axes>"
      ]
     },
     "metadata": {
      "needs_background": "light"
     },
     "output_type": "display_data"
    }
   ],
   "source": [
    "_ = out.transpose().Risk.plot(title='Risk v Risk Req',grid=True)"
   ]
  },
  {
   "cell_type": "code",
   "execution_count": 16,
   "metadata": {},
   "outputs": [
    {
     "data": {
      "image/png": "[encoded data removed]",
      "text/plain": [
       "<Figure size 432x288 with 1 Axes>"
      ]
     },
     "metadata": {
      "needs_background": "light"
     },
     "output_type": "display_data"
    }
   ],
   "source": [
    "_ = out.transpose().Age25Count.plot(title='Age25Count v Risk Req',grid=True)"
   ]
  },
  {
   "cell_type": "markdown",
   "metadata": {},
   "source": [
    "> **Notebook End**"
   ]
  }
 ],
 "metadata": {
  "kernelspec": {
   "display_name": "Python 3",
   "language": "python",
   "name": "python3"
  },
  "language_info": {
   "codemirror_mode": {
    "name": "ipython",
    "version": 3
   },
   "file_extension": ".py",
   "mimetype": "text/x-python",
   "name": "python",
   "nbconvert_exporter": "python",
   "pygments_lexer": "ipython3",
   "version": "3.7.2"
  }
 },
 "nbformat": 4,
 "nbformat_minor": 2
}
